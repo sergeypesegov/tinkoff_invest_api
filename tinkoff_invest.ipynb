{
 "cells": [
  {
   "cell_type": "code",
   "execution_count": null,
   "metadata": {},
   "outputs": [],
   "source": [
    "# установим нужную библиотеку\n",
    "!pip install tinvest[cli]"
   ]
  },
  {
   "cell_type": "markdown",
   "metadata": {},
   "source": [
    "# 1. Получение токена и проверка соединения с сервером"
   ]
  },
  {
   "cell_type": "markdown",
   "metadata": {},
   "source": [
    "Ссылка на github, откуда берется библиотека: https://github.com/daxartio/tinvest\n",
    "\n",
    "Ссылка на документацию по использованию API Tinkoff: https://tinkoffcreditsystems.github.io/invest-openapi/"
   ]
  },
  {
   "cell_type": "markdown",
   "metadata": {},
   "source": [
    "Устанавливаем необходимую библиотеку. Далее нужно получить токен. Как это сделать - описано здесь: https://tinkoffcreditsystems.github.io/invest-openapi/auth/\n",
    "\n",
    "Запишем токен в отдельном файле `tinkoff_token` в переменную `token` и импортируем"
   ]
  },
  {
   "cell_type": "code",
   "execution_count": 1,
   "metadata": {},
   "outputs": [],
   "source": [
    "import tinvest\n",
    "import pandas as pd\n",
    "import numpy as np\n",
    "from decimal import Decimal\n",
    "from tinkoff_token import token # токен хранится здесь\n",
    "import plotly.express as px"
   ]
  },
  {
   "cell_type": "code",
   "execution_count": 2,
   "metadata": {},
   "outputs": [],
   "source": [
    "TOKEN = token\n",
    "client = tinvest.SyncClient(TOKEN)\n",
    "\n",
    "response = client.get_portfolio()  # tinvest.PortfolioResponse\n",
    "#print(response.payload)"
   ]
  },
  {
   "cell_type": "markdown",
   "metadata": {},
   "source": [
    "Напишем примитивную функцию проверки обработки нашего запроса"
   ]
  },
  {
   "cell_type": "code",
   "execution_count": 3,
   "metadata": {},
   "outputs": [],
   "source": [
    "def check_response_status(response):\n",
    "    if response.status == 'Ok':\n",
    "        return 'Запрос обработан'\n",
    "    return 'Ошибка обработки запроса'"
   ]
  },
  {
   "cell_type": "code",
   "execution_count": 4,
   "metadata": {},
   "outputs": [
    {
     "data": {
      "text/plain": [
       "'Запрос обработан'"
      ]
     },
     "execution_count": 4,
     "metadata": {},
     "output_type": "execute_result"
    }
   ],
   "source": [
    "check_response_status(response)"
   ]
  },
  {
   "cell_type": "markdown",
   "metadata": {},
   "source": [
    "Токен работает, сервер отвечает.\n",
    "\n",
    "Теперь получим `id` брокерского аккаунта. У меня их два: ИИС и обычный. Всё самое интересное лежит на обычном аккаунте, поэтому возьмем его и по этому `id` обновим ответ сервера"
   ]
  },
  {
   "cell_type": "code",
   "execution_count": 5,
   "metadata": {},
   "outputs": [],
   "source": [
    "broker_account_id='2038650350'\n",
    "response = client.get_portfolio(broker_account_id='2038650350')"
   ]
  },
  {
   "cell_type": "code",
   "execution_count": 6,
   "metadata": {},
   "outputs": [],
   "source": [
    "#response"
   ]
  },
  {
   "cell_type": "markdown",
   "metadata": {},
   "source": [
    "Видим, что в `response` лежит не человекочитаемый формат. Распарсим его, приведя в итоге к классическому `pandas.DataFrame`"
   ]
  },
  {
   "cell_type": "code",
   "execution_count": 7,
   "metadata": {},
   "outputs": [],
   "source": [
    "all_positions = response.payload.positions"
   ]
  },
  {
   "cell_type": "markdown",
   "metadata": {},
   "source": [
    "# 2. Получение, преобразование и анализ данных по портфелю"
   ]
  },
  {
   "cell_type": "markdown",
   "metadata": {},
   "source": [
    "Для этого напишем простую функцию под каждый интересующий нас параметр, вызовем и результат работы поместим в DataFrame.\n",
    "\n",
    "Список интересующих нас параметров:\n",
    "\n",
    "<li> Position - наименование финансового инструмента \n",
    "<li> Instrument_type - тип финансового инструмента (stock, bond, etf, currency)\n",
    "<li> Balance - количество бумаг в портфеле\n",
    "<li> Avg_position_price - усредненная цена покупки\n",
    "<li> Total_price - цена актива. Рассчитывается как balance * avg_position_price\n",
    "<li> Profit - величина дохода в случае продажи в абсолютных единицах (может быть и отрицательной)\n",
    "<li> Profit_percent - величина дохода в случае продажи в процентах (может быть и отрицательной)\n",
    "<li> Currency - валюта\n",
    "<li> Ticker - тикер финансового инструмента"
   ]
  },
  {
   "cell_type": "markdown",
   "metadata": {},
   "source": [
    "P.S. Profit обновляется каждый раз при новом запросе к серверу"
   ]
  },
  {
   "cell_type": "code",
   "execution_count": 8,
   "metadata": {},
   "outputs": [],
   "source": [
    "def get_all_position_names(all_positions):\n",
    "    names = []\n",
    "    for position in all_positions:\n",
    "        names.append(position.name)\n",
    "    return names"
   ]
  },
  {
   "cell_type": "code",
   "execution_count": 9,
   "metadata": {},
   "outputs": [],
   "source": [
    "def get_instrument_type(all_positions):\n",
    "    instrument_type = []\n",
    "    for position in all_positions:\n",
    "        instrument_type.append(position.instrument_type.replace('InstrumentType', ''))\n",
    "    return instrument_type"
   ]
  },
  {
   "cell_type": "code",
   "execution_count": 10,
   "metadata": {},
   "outputs": [],
   "source": [
    "def get_balance(all_positions):\n",
    "    balance = []\n",
    "    for position in all_positions:\n",
    "        balance.append(position.balance)\n",
    "    return balance"
   ]
  },
  {
   "cell_type": "code",
   "execution_count": 11,
   "metadata": {},
   "outputs": [],
   "source": [
    "def get_avg_position_price(all_positions):\n",
    "    avg_position_price = []\n",
    "    for position in all_positions:\n",
    "        avg_position_price.append(position.average_position_price.value.quantize(Decimal('1.00')))\n",
    "    return avg_position_price"
   ]
  },
  {
   "cell_type": "code",
   "execution_count": 12,
   "metadata": {},
   "outputs": [],
   "source": [
    "def get_figi(all_positions):\n",
    "    figis = []\n",
    "    for i, figi in enumerate(all_positions):\n",
    "        figis.append(all_positions[i].figi)\n",
    "    return figis\n",
    "\n",
    "\n",
    "def get_current_price_by_figi(client, figis):\n",
    "    current_price = []\n",
    "    for figi in figis:\n",
    "        try:\n",
    "            current_price.append((client.get_market_orderbook(figi=figi, depth=1)).payload.asks[0].price)\n",
    "        except:\n",
    "            current_price.append((client.get_market_orderbook(figi=figi, depth=1)).payload.close_price)\n",
    "    return current_price"
   ]
  },
  {
   "cell_type": "code",
   "execution_count": 13,
   "metadata": {},
   "outputs": [],
   "source": [
    "def get_total_price(balance, current_position_price):\n",
    "    total_price = []\n",
    "    for i, elem in enumerate(balance):\n",
    "        total_price.append((balance[i] * current_position_price[i].quantize(Decimal('1.00'))))\n",
    "    return total_price"
   ]
  },
  {
   "cell_type": "code",
   "execution_count": 14,
   "metadata": {},
   "outputs": [],
   "source": [
    "def get_expected_profit(all_positions):\n",
    "    profit = []\n",
    "    for positions in all_positions:\n",
    "        profit.append(positions.expected_yield.value)\n",
    "    return profit"
   ]
  },
  {
   "cell_type": "code",
   "execution_count": 15,
   "metadata": {},
   "outputs": [],
   "source": [
    "def get_expected_profit_percent(balance, avg_position_price, profit):\n",
    "    profit_percent = []\n",
    "    for i, elem in enumerate(profit):\n",
    "        profit_percent.append(f'{((profit[i] / (balance[i] * avg_position_price[i])) * 100).quantize(Decimal(\"1.00\"))}%')\n",
    "    return profit_percent"
   ]
  },
  {
   "cell_type": "code",
   "execution_count": 16,
   "metadata": {},
   "outputs": [],
   "source": [
    "def get_currency(all_positions):\n",
    "    currency = []\n",
    "    for position in all_positions:\n",
    "        currency.append(position.average_position_price.currency.replace('Currency.', ''))\n",
    "    return currency"
   ]
  },
  {
   "cell_type": "code",
   "execution_count": 17,
   "metadata": {},
   "outputs": [],
   "source": [
    "def get_ticker(all_positions):\n",
    "    tickers = []\n",
    "    for position in all_positions:\n",
    "        tickers.append(position.ticker)\n",
    "    return tickers"
   ]
  },
  {
   "cell_type": "markdown",
   "metadata": {},
   "source": [
    "Мы написали все необходимые для начала функции. Следующим шагом их нужно вызвать. Запишем результат работы каждой функции в соответсвующую переменную и затем передадим в датафрейм"
   ]
  },
  {
   "cell_type": "code",
   "execution_count": 18,
   "metadata": {},
   "outputs": [],
   "source": [
    "name = get_all_position_names(all_positions)\n",
    "instrument_type = get_instrument_type(all_positions)\n",
    "balance = get_balance(all_positions)\n",
    "avg_position_price = get_avg_position_price(all_positions)\n",
    "currency = get_currency(all_positions)\n",
    "tickers = get_ticker(all_positions)\n",
    "profit = get_expected_profit(all_positions)\n",
    "figis = get_figi(all_positions)\n",
    "current_position_price = get_current_price_by_figi(client, figis)\n",
    "total_price = get_total_price(balance, current_position_price)\n",
    "profit_percent = get_expected_profit_percent(balance, avg_position_price, profit)"
   ]
  },
  {
   "cell_type": "code",
   "execution_count": 19,
   "metadata": {},
   "outputs": [],
   "source": [
    "portfolio = pd.DataFrame({'position': name, 'instrument_type': instrument_type,\n",
    "                    'balance': balance, 'avg_position_price': avg_position_price,\n",
    "                    'current_position_price': current_position_price,\n",
    "                    'total_price': total_price, 'profit': profit, \n",
    "                     'profit_percent': profit_percent,\n",
    "                     'currency': currency, 'ticker': tickers\n",
    "                    })"
   ]
  },
  {
   "cell_type": "code",
   "execution_count": 20,
   "metadata": {},
   "outputs": [
    {
     "data": {
      "text/html": [
       "<div>\n",
       "<style scoped>\n",
       "    .dataframe tbody tr th:only-of-type {\n",
       "        vertical-align: middle;\n",
       "    }\n",
       "\n",
       "    .dataframe tbody tr th {\n",
       "        vertical-align: top;\n",
       "    }\n",
       "\n",
       "    .dataframe thead th {\n",
       "        text-align: right;\n",
       "    }\n",
       "</style>\n",
       "<table border=\"1\" class=\"dataframe\">\n",
       "  <thead>\n",
       "    <tr style=\"text-align: right;\">\n",
       "      <th></th>\n",
       "      <th>position</th>\n",
       "      <th>instrument_type</th>\n",
       "      <th>balance</th>\n",
       "      <th>avg_position_price</th>\n",
       "      <th>current_position_price</th>\n",
       "      <th>total_price</th>\n",
       "      <th>profit</th>\n",
       "      <th>profit_percent</th>\n",
       "      <th>currency</th>\n",
       "      <th>ticker</th>\n",
       "    </tr>\n",
       "  </thead>\n",
       "  <tbody>\n",
       "    <tr>\n",
       "      <th>0</th>\n",
       "      <td>Полюс Золото</td>\n",
       "      <td>Stock</td>\n",
       "      <td>1</td>\n",
       "      <td>17156.00</td>\n",
       "      <td>13742</td>\n",
       "      <td>13742.00</td>\n",
       "      <td>-3414</td>\n",
       "      <td>-19.90%</td>\n",
       "      <td>RUB</td>\n",
       "      <td>PLZL</td>\n",
       "    </tr>\n",
       "    <tr>\n",
       "      <th>1</th>\n",
       "      <td>Polymetal</td>\n",
       "      <td>Stock</td>\n",
       "      <td>3</td>\n",
       "      <td>1962.40</td>\n",
       "      <td>1553.1</td>\n",
       "      <td>4659.30</td>\n",
       "      <td>-1228.8</td>\n",
       "      <td>-20.87%</td>\n",
       "      <td>RUB</td>\n",
       "      <td>POLY</td>\n",
       "    </tr>\n",
       "    <tr>\n",
       "      <th>2</th>\n",
       "      <td>ГДР X5 RetailGroup</td>\n",
       "      <td>Stock</td>\n",
       "      <td>3</td>\n",
       "      <td>2808.50</td>\n",
       "      <td>2330.0</td>\n",
       "      <td>6990.00</td>\n",
       "      <td>-1435.5</td>\n",
       "      <td>-17.04%</td>\n",
       "      <td>RUB</td>\n",
       "      <td>FIVE</td>\n",
       "    </tr>\n",
       "    <tr>\n",
       "      <th>3</th>\n",
       "      <td>United medical group</td>\n",
       "      <td>Stock</td>\n",
       "      <td>24</td>\n",
       "      <td>928.19</td>\n",
       "      <td>916.1</td>\n",
       "      <td>21986.40</td>\n",
       "      <td>-290.1</td>\n",
       "      <td>-1.30%</td>\n",
       "      <td>RUB</td>\n",
       "      <td>GEMC</td>\n",
       "    </tr>\n",
       "    <tr>\n",
       "      <th>4</th>\n",
       "      <td>Аэрофлот</td>\n",
       "      <td>Stock</td>\n",
       "      <td>20.0</td>\n",
       "      <td>73.90</td>\n",
       "      <td>66.92</td>\n",
       "      <td>1338.400</td>\n",
       "      <td>-140.0</td>\n",
       "      <td>-9.47%</td>\n",
       "      <td>RUB</td>\n",
       "      <td>AFLT</td>\n",
       "    </tr>\n",
       "    <tr>\n",
       "      <th>5</th>\n",
       "      <td>Alibaba</td>\n",
       "      <td>Stock</td>\n",
       "      <td>1</td>\n",
       "      <td>263.30</td>\n",
       "      <td>208.99</td>\n",
       "      <td>208.99</td>\n",
       "      <td>-54.3</td>\n",
       "      <td>-20.62%</td>\n",
       "      <td>USD</td>\n",
       "      <td>BABA</td>\n",
       "    </tr>\n",
       "    <tr>\n",
       "      <th>6</th>\n",
       "      <td>Уралкалий выпуск 6</td>\n",
       "      <td>Bond</td>\n",
       "      <td>6</td>\n",
       "      <td>1034.40</td>\n",
       "      <td>953.5</td>\n",
       "      <td>5721.00</td>\n",
       "      <td>-321</td>\n",
       "      <td>-5.17%</td>\n",
       "      <td>RUB</td>\n",
       "      <td>RU000A101GZ6</td>\n",
       "    </tr>\n",
       "    <tr>\n",
       "      <th>7</th>\n",
       "      <td>Тинькофф Банк выпуск 3</td>\n",
       "      <td>Bond</td>\n",
       "      <td>5</td>\n",
       "      <td>1056.03</td>\n",
       "      <td>1006</td>\n",
       "      <td>5030.00</td>\n",
       "      <td>-110.0</td>\n",
       "      <td>-2.08%</td>\n",
       "      <td>RUB</td>\n",
       "      <td>RU000A100V79</td>\n",
       "    </tr>\n",
       "    <tr>\n",
       "      <th>8</th>\n",
       "      <td>О'КЕЙ выпуск 3</td>\n",
       "      <td>Bond</td>\n",
       "      <td>5</td>\n",
       "      <td>1021.73</td>\n",
       "      <td>983.9</td>\n",
       "      <td>4919.50</td>\n",
       "      <td>-130.0</td>\n",
       "      <td>-2.54%</td>\n",
       "      <td>RUB</td>\n",
       "      <td>RU000A1014B9</td>\n",
       "    </tr>\n",
       "    <tr>\n",
       "      <th>9</th>\n",
       "      <td>Гарант-Инвест БО 001P-05</td>\n",
       "      <td>Bond</td>\n",
       "      <td>1</td>\n",
       "      <td>766.22</td>\n",
       "      <td>790.237</td>\n",
       "      <td>790.24</td>\n",
       "      <td>29.31</td>\n",
       "      <td>3.83%</td>\n",
       "      <td>RUB</td>\n",
       "      <td>RU000A1005T9</td>\n",
       "    </tr>\n",
       "    <tr>\n",
       "      <th>10</th>\n",
       "      <td>FinEx Акции компаний IT-сектора США</td>\n",
       "      <td>Etf</td>\n",
       "      <td>8</td>\n",
       "      <td>1.10</td>\n",
       "      <td>1.2848</td>\n",
       "      <td>10.24</td>\n",
       "      <td>1.49</td>\n",
       "      <td>16.93%</td>\n",
       "      <td>USD</td>\n",
       "      <td>FXIM</td>\n",
       "    </tr>\n",
       "    <tr>\n",
       "      <th>11</th>\n",
       "      <td>Тинькофф NASDAQ</td>\n",
       "      <td>Etf</td>\n",
       "      <td>153</td>\n",
       "      <td>0.08</td>\n",
       "      <td>0.1117</td>\n",
       "      <td>16.83</td>\n",
       "      <td>4.1</td>\n",
       "      <td>33.50%</td>\n",
       "      <td>USD</td>\n",
       "      <td>TECH</td>\n",
       "    </tr>\n",
       "    <tr>\n",
       "      <th>12</th>\n",
       "      <td>Тинькофф S&amp;P 500</td>\n",
       "      <td>Etf</td>\n",
       "      <td>1406</td>\n",
       "      <td>0.10</td>\n",
       "      <td>0.1117</td>\n",
       "      <td>154.66</td>\n",
       "      <td>9.54</td>\n",
       "      <td>6.79%</td>\n",
       "      <td>USD</td>\n",
       "      <td>TSPX</td>\n",
       "    </tr>\n",
       "    <tr>\n",
       "      <th>13</th>\n",
       "      <td>Тинькофф NASDAQ Biotech</td>\n",
       "      <td>Etf</td>\n",
       "      <td>35</td>\n",
       "      <td>0.10</td>\n",
       "      <td>0.1067</td>\n",
       "      <td>3.85</td>\n",
       "      <td>0.32</td>\n",
       "      <td>9.14%</td>\n",
       "      <td>USD</td>\n",
       "      <td>TBIO</td>\n",
       "    </tr>\n",
       "    <tr>\n",
       "      <th>14</th>\n",
       "      <td>FinEx Акции глобального рынка</td>\n",
       "      <td>Etf</td>\n",
       "      <td>753</td>\n",
       "      <td>1.81</td>\n",
       "      <td>1.8552</td>\n",
       "      <td>1400.58</td>\n",
       "      <td>33.47</td>\n",
       "      <td>2.46%</td>\n",
       "      <td>RUB</td>\n",
       "      <td>FXWO</td>\n",
       "    </tr>\n",
       "    <tr>\n",
       "      <th>15</th>\n",
       "      <td>Доллар США</td>\n",
       "      <td>Currency</td>\n",
       "      <td>0.09</td>\n",
       "      <td>73.99</td>\n",
       "      <td>73.6425</td>\n",
       "      <td>6.6276</td>\n",
       "      <td>-0.03</td>\n",
       "      <td>-0.45%</td>\n",
       "      <td>RUB</td>\n",
       "      <td>USD000UTSTOM</td>\n",
       "    </tr>\n",
       "  </tbody>\n",
       "</table>\n",
       "</div>"
      ],
      "text/plain": [
       "                               position instrument_type balance  \\\n",
       "0                          Полюс Золото           Stock       1   \n",
       "1                             Polymetal           Stock       3   \n",
       "2                    ГДР X5 RetailGroup           Stock       3   \n",
       "3                  United medical group           Stock      24   \n",
       "4                              Аэрофлот           Stock    20.0   \n",
       "5                               Alibaba           Stock       1   \n",
       "6                    Уралкалий выпуск 6            Bond       6   \n",
       "7                Тинькофф Банк выпуск 3            Bond       5   \n",
       "8                        О'КЕЙ выпуск 3            Bond       5   \n",
       "9              Гарант-Инвест БО 001P-05            Bond       1   \n",
       "10  FinEx Акции компаний IT-сектора США             Etf       8   \n",
       "11                      Тинькофф NASDAQ             Etf     153   \n",
       "12                     Тинькофф S&P 500             Etf    1406   \n",
       "13              Тинькофф NASDAQ Biotech             Etf      35   \n",
       "14        FinEx Акции глобального рынка             Etf     753   \n",
       "15                           Доллар США        Currency    0.09   \n",
       "\n",
       "   avg_position_price current_position_price total_price   profit  \\\n",
       "0            17156.00                  13742    13742.00    -3414   \n",
       "1             1962.40                 1553.1     4659.30  -1228.8   \n",
       "2             2808.50                 2330.0     6990.00  -1435.5   \n",
       "3              928.19                  916.1    21986.40   -290.1   \n",
       "4               73.90                  66.92    1338.400   -140.0   \n",
       "5              263.30                 208.99      208.99    -54.3   \n",
       "6             1034.40                  953.5     5721.00     -321   \n",
       "7             1056.03                   1006     5030.00   -110.0   \n",
       "8             1021.73                  983.9     4919.50   -130.0   \n",
       "9              766.22                790.237      790.24    29.31   \n",
       "10               1.10                 1.2848       10.24     1.49   \n",
       "11               0.08                 0.1117       16.83      4.1   \n",
       "12               0.10                 0.1117      154.66     9.54   \n",
       "13               0.10                 0.1067        3.85     0.32   \n",
       "14               1.81                 1.8552     1400.58    33.47   \n",
       "15              73.99                73.6425      6.6276    -0.03   \n",
       "\n",
       "   profit_percent currency        ticker  \n",
       "0         -19.90%      RUB          PLZL  \n",
       "1         -20.87%      RUB          POLY  \n",
       "2         -17.04%      RUB          FIVE  \n",
       "3          -1.30%      RUB          GEMC  \n",
       "4          -9.47%      RUB          AFLT  \n",
       "5         -20.62%      USD          BABA  \n",
       "6          -5.17%      RUB  RU000A101GZ6  \n",
       "7          -2.08%      RUB  RU000A100V79  \n",
       "8          -2.54%      RUB  RU000A1014B9  \n",
       "9           3.83%      RUB  RU000A1005T9  \n",
       "10         16.93%      USD          FXIM  \n",
       "11         33.50%      USD          TECH  \n",
       "12          6.79%      USD          TSPX  \n",
       "13          9.14%      USD          TBIO  \n",
       "14          2.46%      RUB          FXWO  \n",
       "15         -0.45%      RUB  USD000UTSTOM  "
      ]
     },
     "execution_count": 20,
     "metadata": {},
     "output_type": "execute_result"
    }
   ],
   "source": [
    "portfolio"
   ]
  },
  {
   "cell_type": "markdown",
   "metadata": {},
   "source": [
    "Данные получены и преобразованы в более понятный для человека формат, однако не хватает множества вспомогательных величин. Например:\n",
    "<li> Общий объём портфеля (в рублях и долларах)\n",
    "<li> Профит портфеоя в абсолютных единицах (в рублях и долларах)\n",
    "<li> Остаток валюты (в рубли и долларах) </li>\n",
    "    \n"
   ]
  },
  {
   "cell_type": "markdown",
   "metadata": {},
   "source": [
    "### Объем портфеля и остаток валюты"
   ]
  },
  {
   "cell_type": "code",
   "execution_count": 21,
   "metadata": {},
   "outputs": [],
   "source": [
    "def get_portfolio_currency():\n",
    "    currencies = client.get_portfolio_currencies() # получаем список валют: eur, rub, usd\n",
    "    rub = currencies.payload.currencies[1].balance # выбираем rub\n",
    "    usd = currencies.payload.currencies[2].balance # выбираем usd\n",
    "    return rub, usd"
   ]
  },
  {
   "cell_type": "code",
   "execution_count": 22,
   "metadata": {},
   "outputs": [],
   "source": [
    "def get_course_usd_to_rub():\n",
    "    dollar_figi = 'BBG0013HGFT4'\n",
    "    try: # если торги активны\n",
    "        return (client.get_market_orderbook(figi=dollar_figi, depth=1)).payload.asks[0].price # получаем текущий курс доллара\n",
    "    except: # если торги неактивны\n",
    "        return client.get_market_orderbook(figi=dollar_figi, depth=1).payload.close_price"
   ]
  },
  {
   "cell_type": "code",
   "execution_count": 48,
   "metadata": {},
   "outputs": [],
   "source": [
    "def get_total_rub_position(portfolio):\n",
    "    return portfolio.loc[portfolio['currency'] == 'RUB']['total_price'].sum()"
   ]
  },
  {
   "cell_type": "code",
   "execution_count": 49,
   "metadata": {},
   "outputs": [],
   "source": [
    "def get_total_usd_position(portfolio):\n",
    "    return portfolio.loc[portfolio['currency'] == 'USD']['total_price'].sum()"
   ]
  },
  {
   "cell_type": "code",
   "execution_count": 50,
   "metadata": {},
   "outputs": [],
   "source": [
    "def get_total_portfolio_rub(portfolio):\n",
    "    rub, usd = get_portfolio_currency() # получаем остаток рублей и долларов в портфеле\n",
    "    course_usd_to_rub = get_course_usd_to_rub() # получаем актуальный курс доллара\n",
    "    rub_position = get_total_rub_position(portfolio) # складываем все рублевые активы\n",
    "    usd_position = get_total_usd_position(portfolio) # складываем все долларовые активы\n",
    "    total_sum_rub = rub + rub_position + course_usd_to_rub * (usd + usd_position) # суммируем все и переводим доллары в рубли\n",
    "    return f'Объём портфеля в рублях: {total_sum_rub.quantize(Decimal(\"1.00\"))}р', total_sum_rub"
   ]
  },
  {
   "cell_type": "code",
   "execution_count": 51,
   "metadata": {},
   "outputs": [],
   "source": [
    "def get_total_portfolio_usd(portfolio):\n",
    "    rub, usd = get_portfolio_currency() # получаем остаток рублей и долларов в портфеле\n",
    "    course_usd_to_rub = get_course_usd_to_rub() # получаем актуальный курс доллара\n",
    "    rub_position = portfolio.loc[portfolio['currency'] == 'RUB']['total_price'].sum() # складываем все рублевые активы\n",
    "    usd_position = portfolio.loc[portfolio['currency'] == 'USD']['total_price'].sum() # складываем все долларовые активы\n",
    "    total_sum_usd = (rub + rub_position) / course_usd_to_rub + usd + usd_position # суммируем все и переводим доллары в рубли\n",
    "    return f'Объём портфеля в долларах: {total_sum_usd.quantize(Decimal(\"1.00\"))}$', total_sum_usd"
   ]
  },
  {
   "cell_type": "code",
   "execution_count": 52,
   "metadata": {},
   "outputs": [
    {
     "data": {
      "text/plain": [
       "'Объём портфеля в рублях: 96382.00р'"
      ]
     },
     "execution_count": 52,
     "metadata": {},
     "output_type": "execute_result"
    }
   ],
   "source": [
    "total_portfolio_rub, total_sum_rub = get_total_portfolio_rub(portfolio)\n",
    "total_portfolio_rub"
   ]
  },
  {
   "cell_type": "code",
   "execution_count": 53,
   "metadata": {},
   "outputs": [
    {
     "data": {
      "text/plain": [
       "'Объём портфеля в долларах: 1308.69$'"
      ]
     },
     "execution_count": 53,
     "metadata": {},
     "output_type": "execute_result"
    }
   ],
   "source": [
    "total_portfolio_usd, total_sum_usd = get_total_portfolio_usd(portfolio)\n",
    "total_portfolio_usd"
   ]
  },
  {
   "cell_type": "markdown",
   "metadata": {},
   "source": [
    "### Профит портфеля"
   ]
  },
  {
   "cell_type": "code",
   "execution_count": 40,
   "metadata": {},
   "outputs": [],
   "source": [
    "def get_rub_profit_position(portfolio):\n",
    "    return portfolio.loc[portfolio['currency'] == 'RUB']['profit'].sum()"
   ]
  },
  {
   "cell_type": "code",
   "execution_count": 41,
   "metadata": {},
   "outputs": [],
   "source": [
    "def get_usd_profit_position(portfolio):\n",
    "    return portfolio.loc[portfolio['currency'] == 'USD']['profit'].sum()"
   ]
  },
  {
   "cell_type": "code",
   "execution_count": 42,
   "metadata": {},
   "outputs": [],
   "source": [
    "def get_total_profit_rub(portfolio):\n",
    "    course_usd_to_rub = get_course_usd_to_rub() # получаем актуальный курс доллара\n",
    "    rub_position = get_rub_profit_position(portfolio) # складываем все рублевые активы\n",
    "    usd_position = get_usd_profit_position(portfolio) # складываем все долларовые активы\n",
    "    total_profit = rub_position + course_usd_to_rub * usd_position # суммируем все и переводим доллары в рубли\n",
    "    return f'Профит портфеля в рублях: {total_profit.quantize(Decimal(\"1.00\"))}р', \\\n",
    "           f'Профит портфеля в процентах: {((total_profit / total_sum_rub)*100).quantize(Decimal(\"1.00\"))}%', \\\n",
    "           total_profit"
   ]
  },
  {
   "cell_type": "code",
   "execution_count": 43,
   "metadata": {},
   "outputs": [
    {
     "data": {
      "text/plain": [
       "('Профит портфеля в рублях: -9867.66р',\n",
       " 'Профит портфеля в процентах: -10.24%',\n",
       " Decimal('-9867.661125'))"
      ]
     },
     "execution_count": 43,
     "metadata": {},
     "output_type": "execute_result"
    }
   ],
   "source": [
    "get_total_profit_rub(portfolio)"
   ]
  },
  {
   "cell_type": "code",
   "execution_count": 44,
   "metadata": {},
   "outputs": [],
   "source": [
    "def get_total_profit_usd(portfolio):\n",
    "    course_usd_to_rub = get_course_usd_to_rub() # получаем актуальный курс доллара\n",
    "    rub_position = get_rub_profit_position(portfolio) # складываем все рублевые активы\n",
    "    usd_position = get_usd_profit_position(portfolio) # складываем все долларовые активы\n",
    "    total_profit = rub_position / course_usd_to_rub + usd_position # суммируем все и переводим доллары в рубли\n",
    "    return f'Профит портфеля в долларах: {total_profit.quantize(Decimal(\"1.00\"))}$', \\\n",
    "           f'Профит портфеля в процентах: {((total_profit / total_sum_usd) * 100).quantize(Decimal(\"1.00\"))}%', \\\n",
    "           total_profit"
   ]
  },
  {
   "cell_type": "code",
   "execution_count": 45,
   "metadata": {},
   "outputs": [
    {
     "data": {
      "text/plain": [
       "('Профит портфеля в долларах: -133.99$',\n",
       " 'Профит портфеля в процентах: -10.24%',\n",
       " Decimal('-133.9941083613402586821468581'))"
      ]
     },
     "execution_count": 45,
     "metadata": {},
     "output_type": "execute_result"
    }
   ],
   "source": [
    "get_total_profit_usd(portfolio)"
   ]
  },
  {
   "cell_type": "markdown",
   "metadata": {},
   "source": [
    "### Профит портфеля с учетом ндфл 13%"
   ]
  },
  {
   "cell_type": "code",
   "execution_count": 33,
   "metadata": {},
   "outputs": [],
   "source": [
    "def get_total_profit_rub_after_taxes(portfolio):\n",
    "    tax_size = 0.87 # возьмем сразу величину 0.87 для дальнейших расчетов\n",
    "    total_sum = get_total_profit_rub(portfolio)\n",
    "    if total_sum[2] > 0:\n",
    "        return 'После уплаты НДФЛ 13%:',total_sum[1], (total_sum[2] * tax_size).quantize(Decimal(\"1.00\"))\n",
    "    return 'После уплаты НДФЛ 13%:', total_sum[1], total_sum[2].quantize(Decimal(\"1.00\"))"
   ]
  },
  {
   "cell_type": "code",
   "execution_count": 34,
   "metadata": {},
   "outputs": [
    {
     "data": {
      "text/plain": [
       "('После уплаты НДФЛ 13%:',\n",
       " 'Профит портфеля в процентах: -10.24%',\n",
       " Decimal('-9867.66'))"
      ]
     },
     "execution_count": 34,
     "metadata": {},
     "output_type": "execute_result"
    }
   ],
   "source": [
    "get_total_profit_rub_after_taxes(portfolio)"
   ]
  },
  {
   "cell_type": "code",
   "execution_count": 35,
   "metadata": {},
   "outputs": [],
   "source": [
    "def get_total_profit_usd_after_taxes(portfolio):\n",
    "    tax_size = 0.87 # возьмем сразу величину 0.87 для дальнейших расчетов\n",
    "    total_sum = get_total_profit_usd(portfolio)\n",
    "    if total_sum[2] > 0:\n",
    "        return 'После уплаты НДФЛ 13%:',total_sum[1], (total_sum[2] * tax_size).quantize(Decimal(\"1.00\"))\n",
    "    return 'После уплаты НДФЛ 13%:', total_sum[1], total_sum[2].quantize(Decimal(\"1.00\"))"
   ]
  },
  {
   "cell_type": "code",
   "execution_count": 36,
   "metadata": {},
   "outputs": [
    {
     "data": {
      "text/plain": [
       "('После уплаты НДФЛ 13%:',\n",
       " 'Профит портфеля в процентах: -10.24%',\n",
       " Decimal('-133.99'))"
      ]
     },
     "execution_count": 36,
     "metadata": {},
     "output_type": "execute_result"
    }
   ],
   "source": [
    "get_total_profit_usd_after_taxes(portfolio)"
   ]
  },
  {
   "cell_type": "markdown",
   "metadata": {},
   "source": [
    "### Аналитика портфеля"
   ]
  },
  {
   "cell_type": "markdown",
   "metadata": {},
   "source": [
    "Взглянем на соотношение рублевых и долларовых инструментов в портфеле. Для этого надо немного обработать данные, в частности перевести все долларовые цены в рублевые (можно и наоборот), чтобы смотреть доли в одной системе счисления"
   ]
  },
  {
   "cell_type": "code",
   "execution_count": 120,
   "metadata": {},
   "outputs": [
    {
     "name": "stderr",
     "output_type": "stream",
     "text": [
      "<ipython-input-120-47228ad04780>:7: SettingWithCopyWarning:\n",
      "\n",
      "\n",
      "A value is trying to be set on a copy of a slice from a DataFrame.\n",
      "Try using .loc[row_indexer,col_indexer] = value instead\n",
      "\n",
      "See the caveats in the documentation: https://pandas.pydata.org/pandas-docs/stable/user_guide/indexing.html#returning-a-view-versus-a-copy\n",
      "\n",
      "<ipython-input-120-47228ad04780>:8: SettingWithCopyWarning:\n",
      "\n",
      "\n",
      "A value is trying to be set on a copy of a slice from a DataFrame.\n",
      "Try using .loc[row_indexer,col_indexer] = value instead\n",
      "\n",
      "See the caveats in the documentation: https://pandas.pydata.org/pandas-docs/stable/user_guide/indexing.html#returning-a-view-versus-a-copy\n",
      "\n"
     ]
    }
   ],
   "source": [
    "usd_course = get_course_usd_to_rub() # получаем курс доллара\n",
    "currency_part = portfolio[['total_price', 'currency']] # делаем срез по двум интересующим нас столбцам\n",
    "\n",
    "usd_currency_part = currency_part.loc[currency_part['currency'] == 'USD'] # выделяем рублевые\n",
    "rub_currency_part = currency_part.loc[currency_part['currency'] == 'RUB']\n",
    "\n",
    "usd_currency_part['total_price_rub'] = (usd_currency_part['total_price'] * usd_course)\n",
    "rub_currency_part['total_price_rub'] =rub_currency_part['total_price']\n",
    "currency_part = usd_currency_part.merge(right=rub_currency_part, how='outer')"
   ]
  },
  {
   "cell_type": "code",
   "execution_count": 134,
   "metadata": {},
   "outputs": [
    {
     "data": {
      "application/vnd.plotly.v1+json": {
       "config": {
        "plotlyServerURL": "https://plot.ly"
       },
       "data": [
        {
         "domain": {
          "x": [
           0,
           1
          ],
          "y": [
           0,
           1
          ]
         },
         "hole": 0.45,
         "hovertemplate": "currency=%{label}<br>total_price_rub=%{value}<extra></extra>",
         "labels": [
          "USD",
          "USD",
          "USD",
          "USD",
          "USD",
          "RUB",
          "RUB",
          "RUB",
          "RUB",
          "RUB",
          "RUB",
          "RUB",
          "RUB",
          "RUB",
          "RUB",
          "RUB"
         ],
         "legendgroup": "",
         "name": "",
         "showlegend": true,
         "textinfo": "percent+label",
         "textposition": "inside",
         "type": "pie",
         "values": [
          15380.096575,
          753.5872,
          1238.561775,
          11381.81605,
          283.331125,
          13742,
          4659.3,
          6990,
          21986.4,
          1338.4,
          5721,
          5030,
          4919.5,
          790.24,
          1400.58,
          6.6276
         ]
        }
       ],
       "layout": {
        "legend": {
         "tracegroupgap": 0
        },
        "template": {
         "data": {
          "bar": [
           {
            "error_x": {
             "color": "#2a3f5f"
            },
            "error_y": {
             "color": "#2a3f5f"
            },
            "marker": {
             "line": {
              "color": "#E5ECF6",
              "width": 0.5
             },
             "pattern": {
              "fillmode": "overlay",
              "size": 10,
              "solidity": 0.2
             }
            },
            "type": "bar"
           }
          ],
          "barpolar": [
           {
            "marker": {
             "line": {
              "color": "#E5ECF6",
              "width": 0.5
             },
             "pattern": {
              "fillmode": "overlay",
              "size": 10,
              "solidity": 0.2
             }
            },
            "type": "barpolar"
           }
          ],
          "carpet": [
           {
            "aaxis": {
             "endlinecolor": "#2a3f5f",
             "gridcolor": "white",
             "linecolor": "white",
             "minorgridcolor": "white",
             "startlinecolor": "#2a3f5f"
            },
            "baxis": {
             "endlinecolor": "#2a3f5f",
             "gridcolor": "white",
             "linecolor": "white",
             "minorgridcolor": "white",
             "startlinecolor": "#2a3f5f"
            },
            "type": "carpet"
           }
          ],
          "choropleth": [
           {
            "colorbar": {
             "outlinewidth": 0,
             "ticks": ""
            },
            "type": "choropleth"
           }
          ],
          "contour": [
           {
            "colorbar": {
             "outlinewidth": 0,
             "ticks": ""
            },
            "colorscale": [
             [
              0,
              "#0d0887"
             ],
             [
              0.1111111111111111,
              "#46039f"
             ],
             [
              0.2222222222222222,
              "#7201a8"
             ],
             [
              0.3333333333333333,
              "#9c179e"
             ],
             [
              0.4444444444444444,
              "#bd3786"
             ],
             [
              0.5555555555555556,
              "#d8576b"
             ],
             [
              0.6666666666666666,
              "#ed7953"
             ],
             [
              0.7777777777777778,
              "#fb9f3a"
             ],
             [
              0.8888888888888888,
              "#fdca26"
             ],
             [
              1,
              "#f0f921"
             ]
            ],
            "type": "contour"
           }
          ],
          "contourcarpet": [
           {
            "colorbar": {
             "outlinewidth": 0,
             "ticks": ""
            },
            "type": "contourcarpet"
           }
          ],
          "heatmap": [
           {
            "colorbar": {
             "outlinewidth": 0,
             "ticks": ""
            },
            "colorscale": [
             [
              0,
              "#0d0887"
             ],
             [
              0.1111111111111111,
              "#46039f"
             ],
             [
              0.2222222222222222,
              "#7201a8"
             ],
             [
              0.3333333333333333,
              "#9c179e"
             ],
             [
              0.4444444444444444,
              "#bd3786"
             ],
             [
              0.5555555555555556,
              "#d8576b"
             ],
             [
              0.6666666666666666,
              "#ed7953"
             ],
             [
              0.7777777777777778,
              "#fb9f3a"
             ],
             [
              0.8888888888888888,
              "#fdca26"
             ],
             [
              1,
              "#f0f921"
             ]
            ],
            "type": "heatmap"
           }
          ],
          "heatmapgl": [
           {
            "colorbar": {
             "outlinewidth": 0,
             "ticks": ""
            },
            "colorscale": [
             [
              0,
              "#0d0887"
             ],
             [
              0.1111111111111111,
              "#46039f"
             ],
             [
              0.2222222222222222,
              "#7201a8"
             ],
             [
              0.3333333333333333,
              "#9c179e"
             ],
             [
              0.4444444444444444,
              "#bd3786"
             ],
             [
              0.5555555555555556,
              "#d8576b"
             ],
             [
              0.6666666666666666,
              "#ed7953"
             ],
             [
              0.7777777777777778,
              "#fb9f3a"
             ],
             [
              0.8888888888888888,
              "#fdca26"
             ],
             [
              1,
              "#f0f921"
             ]
            ],
            "type": "heatmapgl"
           }
          ],
          "histogram": [
           {
            "marker": {
             "pattern": {
              "fillmode": "overlay",
              "size": 10,
              "solidity": 0.2
             }
            },
            "type": "histogram"
           }
          ],
          "histogram2d": [
           {
            "colorbar": {
             "outlinewidth": 0,
             "ticks": ""
            },
            "colorscale": [
             [
              0,
              "#0d0887"
             ],
             [
              0.1111111111111111,
              "#46039f"
             ],
             [
              0.2222222222222222,
              "#7201a8"
             ],
             [
              0.3333333333333333,
              "#9c179e"
             ],
             [
              0.4444444444444444,
              "#bd3786"
             ],
             [
              0.5555555555555556,
              "#d8576b"
             ],
             [
              0.6666666666666666,
              "#ed7953"
             ],
             [
              0.7777777777777778,
              "#fb9f3a"
             ],
             [
              0.8888888888888888,
              "#fdca26"
             ],
             [
              1,
              "#f0f921"
             ]
            ],
            "type": "histogram2d"
           }
          ],
          "histogram2dcontour": [
           {
            "colorbar": {
             "outlinewidth": 0,
             "ticks": ""
            },
            "colorscale": [
             [
              0,
              "#0d0887"
             ],
             [
              0.1111111111111111,
              "#46039f"
             ],
             [
              0.2222222222222222,
              "#7201a8"
             ],
             [
              0.3333333333333333,
              "#9c179e"
             ],
             [
              0.4444444444444444,
              "#bd3786"
             ],
             [
              0.5555555555555556,
              "#d8576b"
             ],
             [
              0.6666666666666666,
              "#ed7953"
             ],
             [
              0.7777777777777778,
              "#fb9f3a"
             ],
             [
              0.8888888888888888,
              "#fdca26"
             ],
             [
              1,
              "#f0f921"
             ]
            ],
            "type": "histogram2dcontour"
           }
          ],
          "mesh3d": [
           {
            "colorbar": {
             "outlinewidth": 0,
             "ticks": ""
            },
            "type": "mesh3d"
           }
          ],
          "parcoords": [
           {
            "line": {
             "colorbar": {
              "outlinewidth": 0,
              "ticks": ""
             }
            },
            "type": "parcoords"
           }
          ],
          "pie": [
           {
            "automargin": true,
            "type": "pie"
           }
          ],
          "scatter": [
           {
            "marker": {
             "colorbar": {
              "outlinewidth": 0,
              "ticks": ""
             }
            },
            "type": "scatter"
           }
          ],
          "scatter3d": [
           {
            "line": {
             "colorbar": {
              "outlinewidth": 0,
              "ticks": ""
             }
            },
            "marker": {
             "colorbar": {
              "outlinewidth": 0,
              "ticks": ""
             }
            },
            "type": "scatter3d"
           }
          ],
          "scattercarpet": [
           {
            "marker": {
             "colorbar": {
              "outlinewidth": 0,
              "ticks": ""
             }
            },
            "type": "scattercarpet"
           }
          ],
          "scattergeo": [
           {
            "marker": {
             "colorbar": {
              "outlinewidth": 0,
              "ticks": ""
             }
            },
            "type": "scattergeo"
           }
          ],
          "scattergl": [
           {
            "marker": {
             "colorbar": {
              "outlinewidth": 0,
              "ticks": ""
             }
            },
            "type": "scattergl"
           }
          ],
          "scattermapbox": [
           {
            "marker": {
             "colorbar": {
              "outlinewidth": 0,
              "ticks": ""
             }
            },
            "type": "scattermapbox"
           }
          ],
          "scatterpolar": [
           {
            "marker": {
             "colorbar": {
              "outlinewidth": 0,
              "ticks": ""
             }
            },
            "type": "scatterpolar"
           }
          ],
          "scatterpolargl": [
           {
            "marker": {
             "colorbar": {
              "outlinewidth": 0,
              "ticks": ""
             }
            },
            "type": "scatterpolargl"
           }
          ],
          "scatterternary": [
           {
            "marker": {
             "colorbar": {
              "outlinewidth": 0,
              "ticks": ""
             }
            },
            "type": "scatterternary"
           }
          ],
          "surface": [
           {
            "colorbar": {
             "outlinewidth": 0,
             "ticks": ""
            },
            "colorscale": [
             [
              0,
              "#0d0887"
             ],
             [
              0.1111111111111111,
              "#46039f"
             ],
             [
              0.2222222222222222,
              "#7201a8"
             ],
             [
              0.3333333333333333,
              "#9c179e"
             ],
             [
              0.4444444444444444,
              "#bd3786"
             ],
             [
              0.5555555555555556,
              "#d8576b"
             ],
             [
              0.6666666666666666,
              "#ed7953"
             ],
             [
              0.7777777777777778,
              "#fb9f3a"
             ],
             [
              0.8888888888888888,
              "#fdca26"
             ],
             [
              1,
              "#f0f921"
             ]
            ],
            "type": "surface"
           }
          ],
          "table": [
           {
            "cells": {
             "fill": {
              "color": "#EBF0F8"
             },
             "line": {
              "color": "white"
             }
            },
            "header": {
             "fill": {
              "color": "#C8D4E3"
             },
             "line": {
              "color": "white"
             }
            },
            "type": "table"
           }
          ]
         },
         "layout": {
          "annotationdefaults": {
           "arrowcolor": "#2a3f5f",
           "arrowhead": 0,
           "arrowwidth": 1
          },
          "autotypenumbers": "strict",
          "coloraxis": {
           "colorbar": {
            "outlinewidth": 0,
            "ticks": ""
           }
          },
          "colorscale": {
           "diverging": [
            [
             0,
             "#8e0152"
            ],
            [
             0.1,
             "#c51b7d"
            ],
            [
             0.2,
             "#de77ae"
            ],
            [
             0.3,
             "#f1b6da"
            ],
            [
             0.4,
             "#fde0ef"
            ],
            [
             0.5,
             "#f7f7f7"
            ],
            [
             0.6,
             "#e6f5d0"
            ],
            [
             0.7,
             "#b8e186"
            ],
            [
             0.8,
             "#7fbc41"
            ],
            [
             0.9,
             "#4d9221"
            ],
            [
             1,
             "#276419"
            ]
           ],
           "sequential": [
            [
             0,
             "#0d0887"
            ],
            [
             0.1111111111111111,
             "#46039f"
            ],
            [
             0.2222222222222222,
             "#7201a8"
            ],
            [
             0.3333333333333333,
             "#9c179e"
            ],
            [
             0.4444444444444444,
             "#bd3786"
            ],
            [
             0.5555555555555556,
             "#d8576b"
            ],
            [
             0.6666666666666666,
             "#ed7953"
            ],
            [
             0.7777777777777778,
             "#fb9f3a"
            ],
            [
             0.8888888888888888,
             "#fdca26"
            ],
            [
             1,
             "#f0f921"
            ]
           ],
           "sequentialminus": [
            [
             0,
             "#0d0887"
            ],
            [
             0.1111111111111111,
             "#46039f"
            ],
            [
             0.2222222222222222,
             "#7201a8"
            ],
            [
             0.3333333333333333,
             "#9c179e"
            ],
            [
             0.4444444444444444,
             "#bd3786"
            ],
            [
             0.5555555555555556,
             "#d8576b"
            ],
            [
             0.6666666666666666,
             "#ed7953"
            ],
            [
             0.7777777777777778,
             "#fb9f3a"
            ],
            [
             0.8888888888888888,
             "#fdca26"
            ],
            [
             1,
             "#f0f921"
            ]
           ]
          },
          "colorway": [
           "#636efa",
           "#EF553B",
           "#00cc96",
           "#ab63fa",
           "#FFA15A",
           "#19d3f3",
           "#FF6692",
           "#B6E880",
           "#FF97FF",
           "#FECB52"
          ],
          "font": {
           "color": "#2a3f5f"
          },
          "geo": {
           "bgcolor": "white",
           "lakecolor": "white",
           "landcolor": "#E5ECF6",
           "showlakes": true,
           "showland": true,
           "subunitcolor": "white"
          },
          "hoverlabel": {
           "align": "left"
          },
          "hovermode": "closest",
          "mapbox": {
           "style": "light"
          },
          "paper_bgcolor": "white",
          "plot_bgcolor": "#E5ECF6",
          "polar": {
           "angularaxis": {
            "gridcolor": "white",
            "linecolor": "white",
            "ticks": ""
           },
           "bgcolor": "#E5ECF6",
           "radialaxis": {
            "gridcolor": "white",
            "linecolor": "white",
            "ticks": ""
           }
          },
          "scene": {
           "xaxis": {
            "backgroundcolor": "#E5ECF6",
            "gridcolor": "white",
            "gridwidth": 2,
            "linecolor": "white",
            "showbackground": true,
            "ticks": "",
            "zerolinecolor": "white"
           },
           "yaxis": {
            "backgroundcolor": "#E5ECF6",
            "gridcolor": "white",
            "gridwidth": 2,
            "linecolor": "white",
            "showbackground": true,
            "ticks": "",
            "zerolinecolor": "white"
           },
           "zaxis": {
            "backgroundcolor": "#E5ECF6",
            "gridcolor": "white",
            "gridwidth": 2,
            "linecolor": "white",
            "showbackground": true,
            "ticks": "",
            "zerolinecolor": "white"
           }
          },
          "shapedefaults": {
           "line": {
            "color": "#2a3f5f"
           }
          },
          "ternary": {
           "aaxis": {
            "gridcolor": "white",
            "linecolor": "white",
            "ticks": ""
           },
           "baxis": {
            "gridcolor": "white",
            "linecolor": "white",
            "ticks": ""
           },
           "bgcolor": "#E5ECF6",
           "caxis": {
            "gridcolor": "white",
            "linecolor": "white",
            "ticks": ""
           }
          },
          "title": {
           "x": 0.05
          },
          "xaxis": {
           "automargin": true,
           "gridcolor": "white",
           "linecolor": "white",
           "ticks": "",
           "title": {
            "standoff": 15
           },
           "zerolinecolor": "white",
           "zerolinewidth": 2
          },
          "yaxis": {
           "automargin": true,
           "gridcolor": "white",
           "linecolor": "white",
           "ticks": "",
           "title": {
            "standoff": 15
           },
           "zerolinecolor": "white",
           "zerolinewidth": 2
          }
         }
        },
        "title": {
         "text": "Доли долларовых и рублевых активов"
        }
       }
      },
      "text/html": [
       "<div>                            <div id=\"dd166efd-36d6-4ba0-9fdb-1f9f05a28283\" class=\"plotly-graph-div\" style=\"height:525px; width:100%;\"></div>            <script type=\"text/javascript\">                require([\"plotly\"], function(Plotly) {                    window.PLOTLYENV=window.PLOTLYENV || {};                                    if (document.getElementById(\"dd166efd-36d6-4ba0-9fdb-1f9f05a28283\")) {                    Plotly.newPlot(                        \"dd166efd-36d6-4ba0-9fdb-1f9f05a28283\",                        [{\"domain\":{\"x\":[0.0,1.0],\"y\":[0.0,1.0]},\"hole\":0.45,\"hovertemplate\":\"currency=%{label}<br>total_price_rub=%{value}<extra></extra>\",\"labels\":[\"USD\",\"USD\",\"USD\",\"USD\",\"USD\",\"RUB\",\"RUB\",\"RUB\",\"RUB\",\"RUB\",\"RUB\",\"RUB\",\"RUB\",\"RUB\",\"RUB\",\"RUB\"],\"legendgroup\":\"\",\"name\":\"\",\"showlegend\":true,\"textinfo\":\"percent+label\",\"textposition\":\"inside\",\"type\":\"pie\",\"values\":[15380.096575,753.5872,1238.561775,11381.81605,283.331125,13742.0,4659.3,6990.0,21986.4,1338.4,5721.0,5030.0,4919.5,790.24,1400.58,6.6276]}],                        {\"legend\":{\"tracegroupgap\":0},\"template\":{\"data\":{\"bar\":[{\"error_x\":{\"color\":\"#2a3f5f\"},\"error_y\":{\"color\":\"#2a3f5f\"},\"marker\":{\"line\":{\"color\":\"#E5ECF6\",\"width\":0.5},\"pattern\":{\"fillmode\":\"overlay\",\"size\":10,\"solidity\":0.2}},\"type\":\"bar\"}],\"barpolar\":[{\"marker\":{\"line\":{\"color\":\"#E5ECF6\",\"width\":0.5},\"pattern\":{\"fillmode\":\"overlay\",\"size\":10,\"solidity\":0.2}},\"type\":\"barpolar\"}],\"carpet\":[{\"aaxis\":{\"endlinecolor\":\"#2a3f5f\",\"gridcolor\":\"white\",\"linecolor\":\"white\",\"minorgridcolor\":\"white\",\"startlinecolor\":\"#2a3f5f\"},\"baxis\":{\"endlinecolor\":\"#2a3f5f\",\"gridcolor\":\"white\",\"linecolor\":\"white\",\"minorgridcolor\":\"white\",\"startlinecolor\":\"#2a3f5f\"},\"type\":\"carpet\"}],\"choropleth\":[{\"colorbar\":{\"outlinewidth\":0,\"ticks\":\"\"},\"type\":\"choropleth\"}],\"contour\":[{\"colorbar\":{\"outlinewidth\":0,\"ticks\":\"\"},\"colorscale\":[[0.0,\"#0d0887\"],[0.1111111111111111,\"#46039f\"],[0.2222222222222222,\"#7201a8\"],[0.3333333333333333,\"#9c179e\"],[0.4444444444444444,\"#bd3786\"],[0.5555555555555556,\"#d8576b\"],[0.6666666666666666,\"#ed7953\"],[0.7777777777777778,\"#fb9f3a\"],[0.8888888888888888,\"#fdca26\"],[1.0,\"#f0f921\"]],\"type\":\"contour\"}],\"contourcarpet\":[{\"colorbar\":{\"outlinewidth\":0,\"ticks\":\"\"},\"type\":\"contourcarpet\"}],\"heatmap\":[{\"colorbar\":{\"outlinewidth\":0,\"ticks\":\"\"},\"colorscale\":[[0.0,\"#0d0887\"],[0.1111111111111111,\"#46039f\"],[0.2222222222222222,\"#7201a8\"],[0.3333333333333333,\"#9c179e\"],[0.4444444444444444,\"#bd3786\"],[0.5555555555555556,\"#d8576b\"],[0.6666666666666666,\"#ed7953\"],[0.7777777777777778,\"#fb9f3a\"],[0.8888888888888888,\"#fdca26\"],[1.0,\"#f0f921\"]],\"type\":\"heatmap\"}],\"heatmapgl\":[{\"colorbar\":{\"outlinewidth\":0,\"ticks\":\"\"},\"colorscale\":[[0.0,\"#0d0887\"],[0.1111111111111111,\"#46039f\"],[0.2222222222222222,\"#7201a8\"],[0.3333333333333333,\"#9c179e\"],[0.4444444444444444,\"#bd3786\"],[0.5555555555555556,\"#d8576b\"],[0.6666666666666666,\"#ed7953\"],[0.7777777777777778,\"#fb9f3a\"],[0.8888888888888888,\"#fdca26\"],[1.0,\"#f0f921\"]],\"type\":\"heatmapgl\"}],\"histogram\":[{\"marker\":{\"pattern\":{\"fillmode\":\"overlay\",\"size\":10,\"solidity\":0.2}},\"type\":\"histogram\"}],\"histogram2d\":[{\"colorbar\":{\"outlinewidth\":0,\"ticks\":\"\"},\"colorscale\":[[0.0,\"#0d0887\"],[0.1111111111111111,\"#46039f\"],[0.2222222222222222,\"#7201a8\"],[0.3333333333333333,\"#9c179e\"],[0.4444444444444444,\"#bd3786\"],[0.5555555555555556,\"#d8576b\"],[0.6666666666666666,\"#ed7953\"],[0.7777777777777778,\"#fb9f3a\"],[0.8888888888888888,\"#fdca26\"],[1.0,\"#f0f921\"]],\"type\":\"histogram2d\"}],\"histogram2dcontour\":[{\"colorbar\":{\"outlinewidth\":0,\"ticks\":\"\"},\"colorscale\":[[0.0,\"#0d0887\"],[0.1111111111111111,\"#46039f\"],[0.2222222222222222,\"#7201a8\"],[0.3333333333333333,\"#9c179e\"],[0.4444444444444444,\"#bd3786\"],[0.5555555555555556,\"#d8576b\"],[0.6666666666666666,\"#ed7953\"],[0.7777777777777778,\"#fb9f3a\"],[0.8888888888888888,\"#fdca26\"],[1.0,\"#f0f921\"]],\"type\":\"histogram2dcontour\"}],\"mesh3d\":[{\"colorbar\":{\"outlinewidth\":0,\"ticks\":\"\"},\"type\":\"mesh3d\"}],\"parcoords\":[{\"line\":{\"colorbar\":{\"outlinewidth\":0,\"ticks\":\"\"}},\"type\":\"parcoords\"}],\"pie\":[{\"automargin\":true,\"type\":\"pie\"}],\"scatter\":[{\"marker\":{\"colorbar\":{\"outlinewidth\":0,\"ticks\":\"\"}},\"type\":\"scatter\"}],\"scatter3d\":[{\"line\":{\"colorbar\":{\"outlinewidth\":0,\"ticks\":\"\"}},\"marker\":{\"colorbar\":{\"outlinewidth\":0,\"ticks\":\"\"}},\"type\":\"scatter3d\"}],\"scattercarpet\":[{\"marker\":{\"colorbar\":{\"outlinewidth\":0,\"ticks\":\"\"}},\"type\":\"scattercarpet\"}],\"scattergeo\":[{\"marker\":{\"colorbar\":{\"outlinewidth\":0,\"ticks\":\"\"}},\"type\":\"scattergeo\"}],\"scattergl\":[{\"marker\":{\"colorbar\":{\"outlinewidth\":0,\"ticks\":\"\"}},\"type\":\"scattergl\"}],\"scattermapbox\":[{\"marker\":{\"colorbar\":{\"outlinewidth\":0,\"ticks\":\"\"}},\"type\":\"scattermapbox\"}],\"scatterpolar\":[{\"marker\":{\"colorbar\":{\"outlinewidth\":0,\"ticks\":\"\"}},\"type\":\"scatterpolar\"}],\"scatterpolargl\":[{\"marker\":{\"colorbar\":{\"outlinewidth\":0,\"ticks\":\"\"}},\"type\":\"scatterpolargl\"}],\"scatterternary\":[{\"marker\":{\"colorbar\":{\"outlinewidth\":0,\"ticks\":\"\"}},\"type\":\"scatterternary\"}],\"surface\":[{\"colorbar\":{\"outlinewidth\":0,\"ticks\":\"\"},\"colorscale\":[[0.0,\"#0d0887\"],[0.1111111111111111,\"#46039f\"],[0.2222222222222222,\"#7201a8\"],[0.3333333333333333,\"#9c179e\"],[0.4444444444444444,\"#bd3786\"],[0.5555555555555556,\"#d8576b\"],[0.6666666666666666,\"#ed7953\"],[0.7777777777777778,\"#fb9f3a\"],[0.8888888888888888,\"#fdca26\"],[1.0,\"#f0f921\"]],\"type\":\"surface\"}],\"table\":[{\"cells\":{\"fill\":{\"color\":\"#EBF0F8\"},\"line\":{\"color\":\"white\"}},\"header\":{\"fill\":{\"color\":\"#C8D4E3\"},\"line\":{\"color\":\"white\"}},\"type\":\"table\"}]},\"layout\":{\"annotationdefaults\":{\"arrowcolor\":\"#2a3f5f\",\"arrowhead\":0,\"arrowwidth\":1},\"autotypenumbers\":\"strict\",\"coloraxis\":{\"colorbar\":{\"outlinewidth\":0,\"ticks\":\"\"}},\"colorscale\":{\"diverging\":[[0,\"#8e0152\"],[0.1,\"#c51b7d\"],[0.2,\"#de77ae\"],[0.3,\"#f1b6da\"],[0.4,\"#fde0ef\"],[0.5,\"#f7f7f7\"],[0.6,\"#e6f5d0\"],[0.7,\"#b8e186\"],[0.8,\"#7fbc41\"],[0.9,\"#4d9221\"],[1,\"#276419\"]],\"sequential\":[[0.0,\"#0d0887\"],[0.1111111111111111,\"#46039f\"],[0.2222222222222222,\"#7201a8\"],[0.3333333333333333,\"#9c179e\"],[0.4444444444444444,\"#bd3786\"],[0.5555555555555556,\"#d8576b\"],[0.6666666666666666,\"#ed7953\"],[0.7777777777777778,\"#fb9f3a\"],[0.8888888888888888,\"#fdca26\"],[1.0,\"#f0f921\"]],\"sequentialminus\":[[0.0,\"#0d0887\"],[0.1111111111111111,\"#46039f\"],[0.2222222222222222,\"#7201a8\"],[0.3333333333333333,\"#9c179e\"],[0.4444444444444444,\"#bd3786\"],[0.5555555555555556,\"#d8576b\"],[0.6666666666666666,\"#ed7953\"],[0.7777777777777778,\"#fb9f3a\"],[0.8888888888888888,\"#fdca26\"],[1.0,\"#f0f921\"]]},\"colorway\":[\"#636efa\",\"#EF553B\",\"#00cc96\",\"#ab63fa\",\"#FFA15A\",\"#19d3f3\",\"#FF6692\",\"#B6E880\",\"#FF97FF\",\"#FECB52\"],\"font\":{\"color\":\"#2a3f5f\"},\"geo\":{\"bgcolor\":\"white\",\"lakecolor\":\"white\",\"landcolor\":\"#E5ECF6\",\"showlakes\":true,\"showland\":true,\"subunitcolor\":\"white\"},\"hoverlabel\":{\"align\":\"left\"},\"hovermode\":\"closest\",\"mapbox\":{\"style\":\"light\"},\"paper_bgcolor\":\"white\",\"plot_bgcolor\":\"#E5ECF6\",\"polar\":{\"angularaxis\":{\"gridcolor\":\"white\",\"linecolor\":\"white\",\"ticks\":\"\"},\"bgcolor\":\"#E5ECF6\",\"radialaxis\":{\"gridcolor\":\"white\",\"linecolor\":\"white\",\"ticks\":\"\"}},\"scene\":{\"xaxis\":{\"backgroundcolor\":\"#E5ECF6\",\"gridcolor\":\"white\",\"gridwidth\":2,\"linecolor\":\"white\",\"showbackground\":true,\"ticks\":\"\",\"zerolinecolor\":\"white\"},\"yaxis\":{\"backgroundcolor\":\"#E5ECF6\",\"gridcolor\":\"white\",\"gridwidth\":2,\"linecolor\":\"white\",\"showbackground\":true,\"ticks\":\"\",\"zerolinecolor\":\"white\"},\"zaxis\":{\"backgroundcolor\":\"#E5ECF6\",\"gridcolor\":\"white\",\"gridwidth\":2,\"linecolor\":\"white\",\"showbackground\":true,\"ticks\":\"\",\"zerolinecolor\":\"white\"}},\"shapedefaults\":{\"line\":{\"color\":\"#2a3f5f\"}},\"ternary\":{\"aaxis\":{\"gridcolor\":\"white\",\"linecolor\":\"white\",\"ticks\":\"\"},\"baxis\":{\"gridcolor\":\"white\",\"linecolor\":\"white\",\"ticks\":\"\"},\"bgcolor\":\"#E5ECF6\",\"caxis\":{\"gridcolor\":\"white\",\"linecolor\":\"white\",\"ticks\":\"\"}},\"title\":{\"x\":0.05},\"xaxis\":{\"automargin\":true,\"gridcolor\":\"white\",\"linecolor\":\"white\",\"ticks\":\"\",\"title\":{\"standoff\":15},\"zerolinecolor\":\"white\",\"zerolinewidth\":2},\"yaxis\":{\"automargin\":true,\"gridcolor\":\"white\",\"linecolor\":\"white\",\"ticks\":\"\",\"title\":{\"standoff\":15},\"zerolinecolor\":\"white\",\"zerolinewidth\":2}}},\"title\":{\"text\":\"\\u0414\\u043e\\u043b\\u0438 \\u0434\\u043e\\u043b\\u043b\\u0430\\u0440\\u043e\\u0432\\u044b\\u0445 \\u0438 \\u0440\\u0443\\u0431\\u043b\\u0435\\u0432\\u044b\\u0445 \\u0430\\u043a\\u0442\\u0438\\u0432\\u043e\\u0432\"}},                        {\"responsive\": true}                    ).then(function(){\n",
       "                            \n",
       "var gd = document.getElementById('dd166efd-36d6-4ba0-9fdb-1f9f05a28283');\n",
       "var x = new MutationObserver(function (mutations, observer) {{\n",
       "        var display = window.getComputedStyle(gd).display;\n",
       "        if (!display || display === 'none') {{\n",
       "            console.log([gd, 'removed!']);\n",
       "            Plotly.purge(gd);\n",
       "            observer.disconnect();\n",
       "        }}\n",
       "}});\n",
       "\n",
       "// Listen for the removal of the full notebook cells\n",
       "var notebookContainer = gd.closest('#notebook-container');\n",
       "if (notebookContainer) {{\n",
       "    x.observe(notebookContainer, {childList: true});\n",
       "}}\n",
       "\n",
       "// Listen for the clearing of the current output cell\n",
       "var outputEl = gd.closest('.output');\n",
       "if (outputEl) {{\n",
       "    x.observe(outputEl, {childList: true});\n",
       "}}\n",
       "\n",
       "                        })                };                });            </script>        </div>"
      ]
     },
     "metadata": {},
     "output_type": "display_data"
    }
   ],
   "source": [
    "fig = px.pie(currency_part, values='total_price_rub', names='currency', title='Доли долларовых и рублевых активов', hole=0.45)\n",
    "fig.update_traces(textposition='inside', textinfo='percent+label')\n",
    "fig.show()"
   ]
  },
  {
   "cell_type": "code",
   "execution_count": null,
   "metadata": {},
   "outputs": [],
   "source": []
  },
  {
   "cell_type": "code",
   "execution_count": null,
   "metadata": {},
   "outputs": [],
   "source": [
    "# TODO\n",
    "# 1. Operation list\n",
    "# 2. Smth with taxes"
   ]
  },
  {
   "cell_type": "code",
   "execution_count": null,
   "metadata": {},
   "outputs": [],
   "source": [
    "client??"
   ]
  },
  {
   "cell_type": "code",
   "execution_count": null,
   "metadata": {},
   "outputs": [],
   "source": [
    "tinvest.MarketOrderRequest??"
   ]
  },
  {
   "cell_type": "code",
   "execution_count": null,
   "metadata": {},
   "outputs": [],
   "source": []
  }
 ],
 "metadata": {
  "kernelspec": {
   "display_name": "Python 3",
   "language": "python",
   "name": "python3"
  },
  "language_info": {
   "codemirror_mode": {
    "name": "ipython",
    "version": 3
   },
   "file_extension": ".py",
   "mimetype": "text/x-python",
   "name": "python",
   "nbconvert_exporter": "python",
   "pygments_lexer": "ipython3",
   "version": "3.8.8"
  }
 },
 "nbformat": 4,
 "nbformat_minor": 4
}
