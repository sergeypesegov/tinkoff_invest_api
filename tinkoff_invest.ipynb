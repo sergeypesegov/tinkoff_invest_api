{
 "cells": [
  {
   "cell_type": "code",
   "execution_count": null,
   "metadata": {},
   "outputs": [],
   "source": [
    "# установим нужную библиотеку\n",
    "!pip install tinvest[cli]"
   ]
  },
  {
   "cell_type": "markdown",
   "metadata": {},
   "source": [
    "# 1. Получение токена и проверка соединения с сервером"
   ]
  },
  {
   "cell_type": "markdown",
   "metadata": {},
   "source": [
    "Ссылка на github, откуда берется библиотека: https://github.com/daxartio/tinvest\n",
    "\n",
    "Ссылка на документацию по использованию API Tinkoff: https://tinkoffcreditsystems.github.io/invest-openapi/"
   ]
  },
  {
   "cell_type": "markdown",
   "metadata": {},
   "source": [
    "Устанавливаем необходимую библиотеку. Далее нужно получить токен. Как это сделать - описано здесь: https://tinkoffcreditsystems.github.io/invest-openapi/auth/\n",
    "\n",
    "Я записал токен в отдельный файлик и подгружаю его, чтобы не светить в коде"
   ]
  },
  {
   "cell_type": "code",
   "execution_count": 2,
   "metadata": {},
   "outputs": [],
   "source": [
    "import tinvest\n",
    "import pandas as pd\n",
    "import numpy as np\n",
    "from decimal import Decimal\n",
    "from tinkoff_token import token # токен хранится здесь"
   ]
  },
  {
   "cell_type": "code",
   "execution_count": 3,
   "metadata": {},
   "outputs": [],
   "source": [
    "TOKEN = token\n",
    "client = tinvest.SyncClient(TOKEN)\n",
    "\n",
    "response = client.get_portfolio()  # tinvest.PortfolioResponse\n",
    "#print(response.payload)"
   ]
  },
  {
   "cell_type": "markdown",
   "metadata": {},
   "source": [
    "Напишем примитивную функцию проверки обработки нашего запроса"
   ]
  },
  {
   "cell_type": "code",
   "execution_count": 4,
   "metadata": {},
   "outputs": [],
   "source": [
    "def check_response_status(response):\n",
    "    if response.status == 'Ok':\n",
    "        return 'Запрос обработан'\n",
    "    return 'Ошибка обработки запроса'"
   ]
  },
  {
   "cell_type": "code",
   "execution_count": 5,
   "metadata": {},
   "outputs": [
    {
     "data": {
      "text/plain": [
       "'Запрос обработан'"
      ]
     },
     "execution_count": 5,
     "metadata": {},
     "output_type": "execute_result"
    }
   ],
   "source": [
    "check_response_status(response)"
   ]
  },
  {
   "cell_type": "markdown",
   "metadata": {},
   "source": [
    "Токен работает, сервер отвечает.\n",
    "\n",
    "Теперь получим `id` брокерского аккаунта. У меня их два: ИИС и обычный. Всё самое интересное лежит на обычном аккаунте, поэтому возьмем его и по этому `id` обновим ответ сервера"
   ]
  },
  {
   "cell_type": "code",
   "execution_count": 6,
   "metadata": {},
   "outputs": [],
   "source": [
    "broker_account_id='2038650350'\n",
    "response = client.get_portfolio(broker_account_id='2038650350')"
   ]
  },
  {
   "cell_type": "code",
   "execution_count": 7,
   "metadata": {},
   "outputs": [],
   "source": [
    "#response"
   ]
  },
  {
   "cell_type": "markdown",
   "metadata": {},
   "source": [
    "Видим, что в `response` лежит не человекочитаемый формат. Распарсим его, приведя в итоге к классическому `pandas.DataFrame`"
   ]
  },
  {
   "cell_type": "code",
   "execution_count": 8,
   "metadata": {},
   "outputs": [],
   "source": [
    "all_positions = response.payload.positions"
   ]
  },
  {
   "cell_type": "markdown",
   "metadata": {},
   "source": [
    "# 2. Получение, преобразование и анализ данных по портфелю"
   ]
  },
  {
   "cell_type": "markdown",
   "metadata": {},
   "source": [
    "Для этого напишем простую функцию под каждый интересующий нас параметр, вызовем и результат работы поместим в DataFrame.\n",
    "\n",
    "Список интересующих нас параметров:\n",
    "\n",
    "<li> Position - наименование финансового инструмента \n",
    "<li> Instrument_type - тип финансового инструмента (stock, bond, etf, currency)\n",
    "<li> Balance - количество бумаг в портфеле\n",
    "<li> Avg_position_price - усредненная цена покупки\n",
    "<li> Total_price - цена актива. Рассчитывается как balance * avg_position_price\n",
    "<li> Profit - величина дохода в случае продажи в абсолютных единицах (может быть и отрицательной)\n",
    "<li> Profit_percent - величина дохода в случае продажи в процентах (может быть и отрицательной)\n",
    "<li> Currency - валюта\n",
    "<li> Ticker - тикер финансового инструмента"
   ]
  },
  {
   "cell_type": "markdown",
   "metadata": {},
   "source": [
    "P.S. Profit обновляется каждый раз при новом запросе к серверу"
   ]
  },
  {
   "cell_type": "code",
   "execution_count": 9,
   "metadata": {},
   "outputs": [],
   "source": [
    "def get_all_position_names(all_positions):\n",
    "    names = []\n",
    "    for position in all_positions:\n",
    "        names.append(position.name)\n",
    "    return names"
   ]
  },
  {
   "cell_type": "code",
   "execution_count": 10,
   "metadata": {},
   "outputs": [],
   "source": [
    "def get_instrument_type(all_positions):\n",
    "    instrument_type = []\n",
    "    for position in all_positions:\n",
    "        instrument_type.append(position.instrument_type.replace('InstrumentType', ''))\n",
    "    return instrument_type"
   ]
  },
  {
   "cell_type": "code",
   "execution_count": 11,
   "metadata": {},
   "outputs": [],
   "source": [
    "def get_balance(all_positions):\n",
    "    balance = []\n",
    "    for position in all_positions:\n",
    "        balance.append(position.balance)\n",
    "    return balance"
   ]
  },
  {
   "cell_type": "code",
   "execution_count": 12,
   "metadata": {},
   "outputs": [],
   "source": [
    "def get_avg_position_price(all_positions):\n",
    "    avg_position_price = []\n",
    "    for position in all_positions:\n",
    "        avg_position_price.append(position.average_position_price.value)\n",
    "    return avg_position_price"
   ]
  },
  {
   "cell_type": "code",
   "execution_count": 13,
   "metadata": {},
   "outputs": [],
   "source": [
    "def get_current_price(avg_position_price, profit_percent):\n",
    "    current_price = []\n",
    "    for i, elem in enumerate(avg_position_price):\n",
    "        current_price.append(avg_position_price[i] + (avg_position_price[i] * (profit_percent[i] / 100)))\n",
    "    return current_price"
   ]
  },
  {
   "cell_type": "code",
   "execution_count": 14,
   "metadata": {},
   "outputs": [],
   "source": [
    "def get_total_price(balance, current_price):\n",
    "    total_price = []\n",
    "    for i, elem in enumerate(balance):\n",
    "        total_price.append((balance[i] * current_price[i]).quantize(Decimal('1.00')))\n",
    "    return total_price"
   ]
  },
  {
   "cell_type": "code",
   "execution_count": 15,
   "metadata": {},
   "outputs": [],
   "source": [
    "def get_expected_profit(all_positions):\n",
    "    profit = []\n",
    "    for positions in all_positions:\n",
    "        profit.append(positions.expected_yield.value)\n",
    "    return profit"
   ]
  },
  {
   "cell_type": "code",
   "execution_count": 16,
   "metadata": {},
   "outputs": [],
   "source": [
    "def get_expected_profit_percent(profit, total_price):\n",
    "    profit_percent = []\n",
    "    for i, elem in enumerate(profit):\n",
    "        #profit_percent.append(f'{(profit[i] / total_price[i] * 100).quantize(Decimal(\"1.00\"))}%')\n",
    "        profit_percent.append((profit[i] / total_price[i] * 100).quantize(Decimal(\"1.00\")))\n",
    "    return profit_percent"
   ]
  },
  {
   "cell_type": "code",
   "execution_count": 17,
   "metadata": {},
   "outputs": [],
   "source": [
    "def get_currency(all_positions):\n",
    "    currency = []\n",
    "    for position in all_positions:\n",
    "        currency.append(position.average_position_price.currency.replace('Currency.', ''))\n",
    "    return currency"
   ]
  },
  {
   "cell_type": "code",
   "execution_count": 18,
   "metadata": {},
   "outputs": [],
   "source": [
    "def get_ticker(all_positions):\n",
    "    tickers = []\n",
    "    for position in all_positions:\n",
    "        tickers.append(position.ticker)\n",
    "    return tickers"
   ]
  },
  {
   "cell_type": "code",
   "execution_count": 19,
   "metadata": {},
   "outputs": [],
   "source": [
    "def update_expected_profit(all_positions):\n",
    "    return get_expected_profit(all_positions)"
   ]
  },
  {
   "cell_type": "markdown",
   "metadata": {},
   "source": [
    "Мы написали все необходимые для начала функции. Следующим шагом их нужно вызвать. Запишем результат работы каждой функции в соответсвующую переменную и затем передадим в датафрейм"
   ]
  },
  {
   "cell_type": "code",
   "execution_count": 30,
   "metadata": {},
   "outputs": [],
   "source": [
    "name = get_all_position_names(all_positions)\n",
    "instrument_type = get_instrument_type(all_positions)\n",
    "balance = get_balance(all_positions)\n",
    "avg_position_price = get_avg_position_price(all_positions)\n",
    "currency = get_currency(all_positions)\n",
    "tickers = get_ticker(all_positions)\n",
    "#profit = get_expected_profit(all_positions) # расчет прибыли в первый раз\n",
    "profit = update_expected_profit(all_positions) # обновление прибыли\n",
    "total_price = get_total_price(balance, avg_position_price) # временный костыль для размыкание последующих трех строк\n",
    "profit_percent = get_expected_profit_percent(profit, total_price)\n",
    "current_price = get_current_price(avg_position_price, profit_percent)\n",
    "total_price = get_total_price(balance, current_price)"
   ]
  },
  {
   "cell_type": "code",
   "execution_count": 31,
   "metadata": {},
   "outputs": [],
   "source": [
    "portfolio = pd.DataFrame({'position': name, 'instrument_type': instrument_type,\n",
    "                    'balance': balance, 'avg_position_price': avg_position_price,\n",
    "                    'current_price': current_price,\n",
    "                    'total_price': total_price, 'profit': profit, \n",
    "                     'profit_percent': profit_percent,\n",
    "                     'currency': currency, 'ticker': tickers\n",
    "                    })"
   ]
  },
  {
   "cell_type": "code",
   "execution_count": 32,
   "metadata": {},
   "outputs": [
    {
     "data": {
      "text/html": [
       "<div>\n",
       "<style scoped>\n",
       "    .dataframe tbody tr th:only-of-type {\n",
       "        vertical-align: middle;\n",
       "    }\n",
       "\n",
       "    .dataframe tbody tr th {\n",
       "        vertical-align: top;\n",
       "    }\n",
       "\n",
       "    .dataframe thead th {\n",
       "        text-align: right;\n",
       "    }\n",
       "</style>\n",
       "<table border=\"1\" class=\"dataframe\">\n",
       "  <thead>\n",
       "    <tr style=\"text-align: right;\">\n",
       "      <th></th>\n",
       "      <th>position</th>\n",
       "      <th>instrument_type</th>\n",
       "      <th>balance</th>\n",
       "      <th>avg_position_price</th>\n",
       "      <th>current_price</th>\n",
       "      <th>total_price</th>\n",
       "      <th>profit</th>\n",
       "      <th>profit_percent</th>\n",
       "      <th>currency</th>\n",
       "      <th>ticker</th>\n",
       "    </tr>\n",
       "  </thead>\n",
       "  <tbody>\n",
       "    <tr>\n",
       "      <th>0</th>\n",
       "      <td>Полюс Золото</td>\n",
       "      <td>Stock</td>\n",
       "      <td>1</td>\n",
       "      <td>17156</td>\n",
       "      <td>14182.8652</td>\n",
       "      <td>14182.87</td>\n",
       "      <td>-2972.5</td>\n",
       "      <td>-17.33</td>\n",
       "      <td>RUB</td>\n",
       "      <td>PLZL</td>\n",
       "    </tr>\n",
       "    <tr>\n",
       "      <th>1</th>\n",
       "      <td>Polymetal</td>\n",
       "      <td>Stock</td>\n",
       "      <td>3</td>\n",
       "      <td>1962.4</td>\n",
       "      <td>1622.70856</td>\n",
       "      <td>4868.13</td>\n",
       "      <td>-1019.1</td>\n",
       "      <td>-17.31</td>\n",
       "      <td>RUB</td>\n",
       "      <td>POLY</td>\n",
       "    </tr>\n",
       "    <tr>\n",
       "      <th>2</th>\n",
       "      <td>ГДР X5 RetailGroup</td>\n",
       "      <td>Stock</td>\n",
       "      <td>3</td>\n",
       "      <td>2808.5</td>\n",
       "      <td>2475.97360</td>\n",
       "      <td>7427.92</td>\n",
       "      <td>-997.5</td>\n",
       "      <td>-11.84</td>\n",
       "      <td>RUB</td>\n",
       "      <td>FIVE</td>\n",
       "    </tr>\n",
       "    <tr>\n",
       "      <th>3</th>\n",
       "      <td>Аэрофлот</td>\n",
       "      <td>Stock</td>\n",
       "      <td>20.0</td>\n",
       "      <td>73.9</td>\n",
       "      <td>68.8009</td>\n",
       "      <td>1376.02</td>\n",
       "      <td>-102</td>\n",
       "      <td>-6.90</td>\n",
       "      <td>RUB</td>\n",
       "      <td>AFLT</td>\n",
       "    </tr>\n",
       "    <tr>\n",
       "      <th>4</th>\n",
       "      <td>Alibaba</td>\n",
       "      <td>Stock</td>\n",
       "      <td>1</td>\n",
       "      <td>263.3</td>\n",
       "      <td>205.97959</td>\n",
       "      <td>205.98</td>\n",
       "      <td>-57.33</td>\n",
       "      <td>-21.77</td>\n",
       "      <td>USD</td>\n",
       "      <td>BABA</td>\n",
       "    </tr>\n",
       "    <tr>\n",
       "      <th>5</th>\n",
       "      <td>Уралкалий выпуск 6</td>\n",
       "      <td>Bond</td>\n",
       "      <td>6</td>\n",
       "      <td>1031.77</td>\n",
       "      <td>982.657748</td>\n",
       "      <td>5895.95</td>\n",
       "      <td>-294.6</td>\n",
       "      <td>-4.76</td>\n",
       "      <td>RUB</td>\n",
       "      <td>RU000A101GZ6</td>\n",
       "    </tr>\n",
       "    <tr>\n",
       "      <th>6</th>\n",
       "      <td>Тинькофф Банк выпуск 3</td>\n",
       "      <td>Bond</td>\n",
       "      <td>5</td>\n",
       "      <td>1052.86</td>\n",
       "      <td>1032.85566</td>\n",
       "      <td>5164.28</td>\n",
       "      <td>-100.0</td>\n",
       "      <td>-1.90</td>\n",
       "      <td>RUB</td>\n",
       "      <td>RU000A100V79</td>\n",
       "    </tr>\n",
       "    <tr>\n",
       "      <th>7</th>\n",
       "      <td>О'КЕЙ выпуск 3</td>\n",
       "      <td>Bond</td>\n",
       "      <td>5</td>\n",
       "      <td>1018.72</td>\n",
       "      <td>996.817520</td>\n",
       "      <td>4984.09</td>\n",
       "      <td>-109.5</td>\n",
       "      <td>-2.15</td>\n",
       "      <td>RUB</td>\n",
       "      <td>RU000A1014B9</td>\n",
       "    </tr>\n",
       "    <tr>\n",
       "      <th>8</th>\n",
       "      <td>Гарант-Инвест БО 001P-05</td>\n",
       "      <td>Bond</td>\n",
       "      <td>1</td>\n",
       "      <td>762.59</td>\n",
       "      <td>794.847557</td>\n",
       "      <td>794.85</td>\n",
       "      <td>32.23</td>\n",
       "      <td>4.23</td>\n",
       "      <td>RUB</td>\n",
       "      <td>RU000A1005T9</td>\n",
       "    </tr>\n",
       "    <tr>\n",
       "      <th>9</th>\n",
       "      <td>FinEx Акции компаний IT-сектора США</td>\n",
       "      <td>Etf</td>\n",
       "      <td>8</td>\n",
       "      <td>1.0975</td>\n",
       "      <td>1.26750275</td>\n",
       "      <td>10.14</td>\n",
       "      <td>1.36</td>\n",
       "      <td>15.49</td>\n",
       "      <td>USD</td>\n",
       "      <td>FXIM</td>\n",
       "    </tr>\n",
       "    <tr>\n",
       "      <th>10</th>\n",
       "      <td>Тинькофф NASDAQ</td>\n",
       "      <td>Etf</td>\n",
       "      <td>153</td>\n",
       "      <td>0.0849</td>\n",
       "      <td>0.11071809</td>\n",
       "      <td>16.94</td>\n",
       "      <td>3.95</td>\n",
       "      <td>30.41</td>\n",
       "      <td>USD</td>\n",
       "      <td>TECH</td>\n",
       "    </tr>\n",
       "    <tr>\n",
       "      <th>11</th>\n",
       "      <td>Тинькофф S&amp;P 500</td>\n",
       "      <td>Etf</td>\n",
       "      <td>1406</td>\n",
       "      <td>0.1049</td>\n",
       "      <td>0.11088979</td>\n",
       "      <td>155.91</td>\n",
       "      <td>8.42</td>\n",
       "      <td>5.71</td>\n",
       "      <td>USD</td>\n",
       "      <td>TSPX</td>\n",
       "    </tr>\n",
       "    <tr>\n",
       "      <th>12</th>\n",
       "      <td>Тинькофф NASDAQ Biotech</td>\n",
       "      <td>Etf</td>\n",
       "      <td>35</td>\n",
       "      <td>0.0974</td>\n",
       "      <td>0.10539654</td>\n",
       "      <td>3.69</td>\n",
       "      <td>0.28</td>\n",
       "      <td>8.21</td>\n",
       "      <td>USD</td>\n",
       "      <td>TBIO</td>\n",
       "    </tr>\n",
       "    <tr>\n",
       "      <th>13</th>\n",
       "      <td>FinEx Акции глобального рынка</td>\n",
       "      <td>Etf</td>\n",
       "      <td>753</td>\n",
       "      <td>1.8105</td>\n",
       "      <td>1.87241910</td>\n",
       "      <td>1409.93</td>\n",
       "      <td>46.65</td>\n",
       "      <td>3.42</td>\n",
       "      <td>RUB</td>\n",
       "      <td>FXWO</td>\n",
       "    </tr>\n",
       "    <tr>\n",
       "      <th>14</th>\n",
       "      <td>Доллар США</td>\n",
       "      <td>Currency</td>\n",
       "      <td>0.09</td>\n",
       "      <td>73.99</td>\n",
       "      <td>74.43394</td>\n",
       "      <td>6.70</td>\n",
       "      <td>0.04</td>\n",
       "      <td>0.60</td>\n",
       "      <td>RUB</td>\n",
       "      <td>USD000UTSTOM</td>\n",
       "    </tr>\n",
       "  </tbody>\n",
       "</table>\n",
       "</div>"
      ],
      "text/plain": [
       "                               position instrument_type balance  \\\n",
       "0                          Полюс Золото           Stock       1   \n",
       "1                             Polymetal           Stock       3   \n",
       "2                    ГДР X5 RetailGroup           Stock       3   \n",
       "3                              Аэрофлот           Stock    20.0   \n",
       "4                               Alibaba           Stock       1   \n",
       "5                    Уралкалий выпуск 6            Bond       6   \n",
       "6                Тинькофф Банк выпуск 3            Bond       5   \n",
       "7                        О'КЕЙ выпуск 3            Bond       5   \n",
       "8              Гарант-Инвест БО 001P-05            Bond       1   \n",
       "9   FinEx Акции компаний IT-сектора США             Etf       8   \n",
       "10                      Тинькофф NASDAQ             Etf     153   \n",
       "11                     Тинькофф S&P 500             Etf    1406   \n",
       "12              Тинькофф NASDAQ Biotech             Etf      35   \n",
       "13        FinEx Акции глобального рынка             Etf     753   \n",
       "14                           Доллар США        Currency    0.09   \n",
       "\n",
       "   avg_position_price current_price total_price   profit profit_percent  \\\n",
       "0               17156    14182.8652    14182.87  -2972.5         -17.33   \n",
       "1              1962.4    1622.70856     4868.13  -1019.1         -17.31   \n",
       "2              2808.5    2475.97360     7427.92   -997.5         -11.84   \n",
       "3                73.9       68.8009     1376.02     -102          -6.90   \n",
       "4               263.3     205.97959      205.98   -57.33         -21.77   \n",
       "5             1031.77    982.657748     5895.95   -294.6          -4.76   \n",
       "6             1052.86    1032.85566     5164.28   -100.0          -1.90   \n",
       "7             1018.72    996.817520     4984.09   -109.5          -2.15   \n",
       "8              762.59    794.847557      794.85    32.23           4.23   \n",
       "9              1.0975    1.26750275       10.14     1.36          15.49   \n",
       "10             0.0849    0.11071809       16.94     3.95          30.41   \n",
       "11             0.1049    0.11088979      155.91     8.42           5.71   \n",
       "12             0.0974    0.10539654        3.69     0.28           8.21   \n",
       "13             1.8105    1.87241910     1409.93    46.65           3.42   \n",
       "14              73.99      74.43394        6.70     0.04           0.60   \n",
       "\n",
       "   currency        ticker  \n",
       "0       RUB          PLZL  \n",
       "1       RUB          POLY  \n",
       "2       RUB          FIVE  \n",
       "3       RUB          AFLT  \n",
       "4       USD          BABA  \n",
       "5       RUB  RU000A101GZ6  \n",
       "6       RUB  RU000A100V79  \n",
       "7       RUB  RU000A1014B9  \n",
       "8       RUB  RU000A1005T9  \n",
       "9       USD          FXIM  \n",
       "10      USD          TECH  \n",
       "11      USD          TSPX  \n",
       "12      USD          TBIO  \n",
       "13      RUB          FXWO  \n",
       "14      RUB  USD000UTSTOM  "
      ]
     },
     "execution_count": 32,
     "metadata": {},
     "output_type": "execute_result"
    }
   ],
   "source": [
    "portfolio"
   ]
  },
  {
   "cell_type": "markdown",
   "metadata": {},
   "source": [
    "Данные получены и преобразованы в более понятный для человека формат, однако не хватает множества вспомогательных величин. Например:\n",
    "<li> Общий объём портфеля (в рублях и долларах)\n",
    "<li> Профит портфеоя в абсолютных единицах (в рублях и долларах)\n",
    "<li> Остаток валюты (в рубли и долларах) </li>\n",
    "    \n"
   ]
  },
  {
   "cell_type": "code",
   "execution_count": 23,
   "metadata": {},
   "outputs": [],
   "source": [
    "def get_portfolio_currency():\n",
    "    currencies = client.get_portfolio_currencies() # получаем список валют: eur, rub, usd\n",
    "    rub = currencies.payload.currencies[1].balance # выбираем rub\n",
    "    usd = currencies.payload.currencies[2].balance # выбираем usd\n",
    "    return rub, usd"
   ]
  },
  {
   "cell_type": "code",
   "execution_count": 24,
   "metadata": {},
   "outputs": [],
   "source": [
    "def get_course_usd_to_rub():\n",
    "    return (client.get_market_orderbook(figi='BBG0013HGFT4', depth=1)).payload.asks[0].price # получаем текущий курс доллара"
   ]
  },
  {
   "cell_type": "code",
   "execution_count": 25,
   "metadata": {},
   "outputs": [],
   "source": [
    "def get_total_portfolio_rub(portfolio):\n",
    "    rub, usd = get_portfolio_currency() # получаем остаток рублей и долларов в портфеле\n",
    "    course_usd_to_rub = get_course_usd_to_rub() # получаем актуальный курс доллара\n",
    "    rub_position = portfolio.loc[portfolio['currency'] == 'RUB']['total_price'].sum() # складываем все рублевые активы\n",
    "    usd_position = portfolio.loc[portfolio['currency'] == 'USD']['total_price'].sum() # складываем все долларовые активы\n",
    "    total_sum = rub + rub_position + course_usd_to_rub * (usd + usd_position) # суммируем все и переводим доллары в рубли\n",
    "    return f'Объём портфеля в рублях: {total_sum.quantize(Decimal(\"1.00\"))}р'"
   ]
  },
  {
   "cell_type": "code",
   "execution_count": 27,
   "metadata": {},
   "outputs": [
    {
     "data": {
      "text/plain": [
       "'Объём портфеля в рублях: 75408.86р'"
      ]
     },
     "execution_count": 27,
     "metadata": {},
     "output_type": "execute_result"
    }
   ],
   "source": [
    "get_total_portfolio_rub(portfolio)"
   ]
  },
  {
   "cell_type": "code",
   "execution_count": null,
   "metadata": {},
   "outputs": [],
   "source": [
    "rub, usd = get_portfolio_currency() # получаем остаток рублей и долларов в портфеле\n",
    "course_usd_to_rub = get_course_usd_to_rub() # получаем актуальный курс доллара\n",
    "rub_position = portfolio.loc[portfolio['currency'] == 'RUB']['total_price'].sum()\n",
    "usd_position = portfolio.loc[portfolio['currency'] == 'USD']['total_price'].sum()\n",
    "total_sum = rub + rub_position + (course_usd_to_rub * usd_position)\n",
    "total_sum"
   ]
  },
  {
   "cell_type": "code",
   "execution_count": null,
   "metadata": {},
   "outputs": [],
   "source": [
    "rub_position = portfolio.loc[portfolio['currency'] == 'RUB']['total_price'].sum()"
   ]
  },
  {
   "cell_type": "code",
   "execution_count": null,
   "metadata": {},
   "outputs": [],
   "source": [
    "rub_position"
   ]
  },
  {
   "cell_type": "code",
   "execution_count": null,
   "metadata": {},
   "outputs": [],
   "source": [
    "usd_position"
   ]
  },
  {
   "cell_type": "code",
   "execution_count": null,
   "metadata": {},
   "outputs": [],
   "source": []
  },
  {
   "cell_type": "code",
   "execution_count": null,
   "metadata": {},
   "outputs": [],
   "source": [
    "def get_total_portfolio_usd():\n",
    "    u\n",
    "    return usd, rub, eur"
   ]
  },
  {
   "cell_type": "code",
   "execution_count": null,
   "metadata": {},
   "outputs": [],
   "source": [
    "kek = client.get_portfolio_currencies().payload.currencies #eur rub usd"
   ]
  },
  {
   "cell_type": "code",
   "execution_count": null,
   "metadata": {},
   "outputs": [],
   "source": [
    "course_usd = (client.get_market_orderbook(figi='BBG0013HGFT4', depth=1)).payload.asks[0].price\n",
    "#usd = course_usd.payload.asks[0].price"
   ]
  },
  {
   "cell_type": "code",
   "execution_count": null,
   "metadata": {},
   "outputs": [],
   "source": [
    "course_usd"
   ]
  },
  {
   "cell_type": "code",
   "execution_count": null,
   "metadata": {},
   "outputs": [],
   "source": [
    "client.get_market_search_by_ticker('PLZL')"
   ]
  },
  {
   "cell_type": "code",
   "execution_count": null,
   "metadata": {},
   "outputs": [],
   "source": []
  },
  {
   "cell_type": "code",
   "execution_count": null,
   "metadata": {},
   "outputs": [],
   "source": [
    "# TODO\n",
    "# 1. Operation list\n",
    "# 2. Smth with taxes"
   ]
  },
  {
   "cell_type": "code",
   "execution_count": null,
   "metadata": {},
   "outputs": [],
   "source": [
    "client??"
   ]
  },
  {
   "cell_type": "code",
   "execution_count": null,
   "metadata": {},
   "outputs": [],
   "source": [
    "tinvest.MarketOrderRequest??"
   ]
  },
  {
   "cell_type": "code",
   "execution_count": null,
   "metadata": {},
   "outputs": [],
   "source": []
  }
 ],
 "metadata": {
  "kernelspec": {
   "display_name": "Python 3",
   "language": "python",
   "name": "python3"
  },
  "language_info": {
   "codemirror_mode": {
    "name": "ipython",
    "version": 3
   },
   "file_extension": ".py",
   "mimetype": "text/x-python",
   "name": "python",
   "nbconvert_exporter": "python",
   "pygments_lexer": "ipython3",
   "version": "3.8.8"
  }
 },
 "nbformat": 4,
 "nbformat_minor": 4
}
