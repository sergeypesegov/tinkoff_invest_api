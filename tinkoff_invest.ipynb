{
 "cells": [
  {
   "cell_type": "code",
   "execution_count": null,
   "metadata": {},
   "outputs": [],
   "source": [
    "# установим нужную библиотеку\n",
    "!pip install tinvest[cli]"
   ]
  },
  {
   "cell_type": "markdown",
   "metadata": {},
   "source": [
    "# 1. Получение токена и проверка соединения с сервером"
   ]
  },
  {
   "cell_type": "markdown",
   "metadata": {},
   "source": [
    "Ссылка на github, откуда берется библиотека: https://github.com/daxartio/tinvest\n",
    "\n",
    "Ссылка на документацию по использованию API Tinkoff: https://tinkoffcreditsystems.github.io/invest-openapi/"
   ]
  },
  {
   "cell_type": "markdown",
   "metadata": {},
   "source": [
    "Устанавливаем необходимую библиотеку. Далее нужно получить токен. Как это сделать - описано здесь: https://tinkoffcreditsystems.github.io/invest-openapi/auth/\n",
    "\n",
    "Запишем токен в отдельном файле `tinkoff_token` в переменную `token` и импортируем"
   ]
  },
  {
   "cell_type": "code",
   "execution_count": 1,
   "metadata": {},
   "outputs": [],
   "source": [
    "import tinvest\n",
    "import pandas as pd\n",
    "import numpy as np\n",
    "from decimal import Decimal\n",
    "from tinkoff_token import token # токен хранится здесь"
   ]
  },
  {
   "cell_type": "code",
   "execution_count": 2,
   "metadata": {},
   "outputs": [],
   "source": [
    "TOKEN = token\n",
    "client = tinvest.SyncClient(TOKEN)\n",
    "\n",
    "response = client.get_portfolio()  # tinvest.PortfolioResponse\n",
    "#print(response.payload)"
   ]
  },
  {
   "cell_type": "markdown",
   "metadata": {},
   "source": [
    "Напишем примитивную функцию проверки обработки нашего запроса"
   ]
  },
  {
   "cell_type": "code",
   "execution_count": 3,
   "metadata": {},
   "outputs": [],
   "source": [
    "def check_response_status(response):\n",
    "    if response.status == 'Ok':\n",
    "        return 'Запрос обработан'\n",
    "    return 'Ошибка обработки запроса'"
   ]
  },
  {
   "cell_type": "code",
   "execution_count": 4,
   "metadata": {},
   "outputs": [
    {
     "data": {
      "text/plain": [
       "'Запрос обработан'"
      ]
     },
     "execution_count": 4,
     "metadata": {},
     "output_type": "execute_result"
    }
   ],
   "source": [
    "check_response_status(response)"
   ]
  },
  {
   "cell_type": "markdown",
   "metadata": {},
   "source": [
    "Токен работает, сервер отвечает.\n",
    "\n",
    "Теперь получим `id` брокерского аккаунта. У меня их два: ИИС и обычный. Всё самое интересное лежит на обычном аккаунте, поэтому возьмем его и по этому `id` обновим ответ сервера"
   ]
  },
  {
   "cell_type": "code",
   "execution_count": 5,
   "metadata": {},
   "outputs": [],
   "source": [
    "broker_account_id='2038650350'\n",
    "response = client.get_portfolio(broker_account_id='2038650350')"
   ]
  },
  {
   "cell_type": "code",
   "execution_count": 6,
   "metadata": {},
   "outputs": [],
   "source": [
    "#response"
   ]
  },
  {
   "cell_type": "markdown",
   "metadata": {},
   "source": [
    "Видим, что в `response` лежит не человекочитаемый формат. Распарсим его, приведя в итоге к классическому `pandas.DataFrame`"
   ]
  },
  {
   "cell_type": "code",
   "execution_count": 7,
   "metadata": {},
   "outputs": [],
   "source": [
    "all_positions = response.payload.positions"
   ]
  },
  {
   "cell_type": "markdown",
   "metadata": {},
   "source": [
    "# 2. Получение, преобразование и анализ данных по портфелю"
   ]
  },
  {
   "cell_type": "markdown",
   "metadata": {},
   "source": [
    "Для этого напишем простую функцию под каждый интересующий нас параметр, вызовем и результат работы поместим в DataFrame.\n",
    "\n",
    "Список интересующих нас параметров:\n",
    "\n",
    "<li> Position - наименование финансового инструмента \n",
    "<li> Instrument_type - тип финансового инструмента (stock, bond, etf, currency)\n",
    "<li> Balance - количество бумаг в портфеле\n",
    "<li> Avg_position_price - усредненная цена покупки\n",
    "<li> Total_price - цена актива. Рассчитывается как balance * avg_position_price\n",
    "<li> Profit - величина дохода в случае продажи в абсолютных единицах (может быть и отрицательной)\n",
    "<li> Profit_percent - величина дохода в случае продажи в процентах (может быть и отрицательной)\n",
    "<li> Currency - валюта\n",
    "<li> Ticker - тикер финансового инструмента"
   ]
  },
  {
   "cell_type": "markdown",
   "metadata": {},
   "source": [
    "P.S. Profit обновляется каждый раз при новом запросе к серверу"
   ]
  },
  {
   "cell_type": "code",
   "execution_count": 8,
   "metadata": {},
   "outputs": [],
   "source": [
    "def get_all_position_names(all_positions):\n",
    "    names = []\n",
    "    for position in all_positions:\n",
    "        names.append(position.name)\n",
    "    return names"
   ]
  },
  {
   "cell_type": "code",
   "execution_count": 9,
   "metadata": {},
   "outputs": [],
   "source": [
    "def get_instrument_type(all_positions):\n",
    "    instrument_type = []\n",
    "    for position in all_positions:\n",
    "        instrument_type.append(position.instrument_type.replace('InstrumentType', ''))\n",
    "    return instrument_type"
   ]
  },
  {
   "cell_type": "code",
   "execution_count": 10,
   "metadata": {},
   "outputs": [],
   "source": [
    "def get_balance(all_positions):\n",
    "    balance = []\n",
    "    for position in all_positions:\n",
    "        balance.append(position.balance)\n",
    "    return balance"
   ]
  },
  {
   "cell_type": "code",
   "execution_count": 11,
   "metadata": {},
   "outputs": [],
   "source": [
    "def get_avg_position_price(all_positions):\n",
    "    avg_position_price = []\n",
    "    for position in all_positions:\n",
    "        avg_position_price.append(position.average_position_price.value.quantize(Decimal('1.00')))\n",
    "    return avg_position_price"
   ]
  },
  {
   "cell_type": "code",
   "execution_count": 12,
   "metadata": {},
   "outputs": [],
   "source": [
    "def get_figi(all_positions):\n",
    "    figis = []\n",
    "    for i, figi in enumerate(all_positions):\n",
    "        figis.append(all_positions[i].figi)\n",
    "    return figis\n",
    "\n",
    "\n",
    "def get_current_price_by_figi(client, figis):\n",
    "    current_price = []\n",
    "    for figi in figis:\n",
    "        try:\n",
    "            current_price.append((client.get_market_orderbook(figi=figi, depth=1)).payload.asks[0].price)\n",
    "        except:\n",
    "            current_price.append((client.get_market_orderbook(figi=figi, depth=1)).payload.close_price)\n",
    "    return current_price"
   ]
  },
  {
   "cell_type": "code",
   "execution_count": 13,
   "metadata": {},
   "outputs": [],
   "source": [
    "def get_total_price(balance, current_position_price):\n",
    "    total_price = []\n",
    "    for i, elem in enumerate(balance):\n",
    "        total_price.append((balance[i] * current_position_price[i].quantize(Decimal('1.00'))))\n",
    "    return total_price"
   ]
  },
  {
   "cell_type": "code",
   "execution_count": 14,
   "metadata": {},
   "outputs": [],
   "source": [
    "def get_expected_profit(all_positions):\n",
    "    profit = []\n",
    "    for positions in all_positions:\n",
    "        profit.append(positions.expected_yield.value)\n",
    "    return profit"
   ]
  },
  {
   "cell_type": "code",
   "execution_count": 15,
   "metadata": {},
   "outputs": [],
   "source": [
    "def get_expected_profit_percent(balance, avg_position_price, profit):\n",
    "    profit_percent = []\n",
    "    for i, elem in enumerate(profit):\n",
    "        profit_percent.append(f'{((profit[i] / (balance[i] * avg_position_price[i])) * 100).quantize(Decimal(\"1.00\"))}%')\n",
    "    return profit_percent"
   ]
  },
  {
   "cell_type": "code",
   "execution_count": 16,
   "metadata": {},
   "outputs": [],
   "source": [
    "def get_currency(all_positions):\n",
    "    currency = []\n",
    "    for position in all_positions:\n",
    "        currency.append(position.average_position_price.currency.replace('Currency.', ''))\n",
    "    return currency"
   ]
  },
  {
   "cell_type": "code",
   "execution_count": 17,
   "metadata": {},
   "outputs": [],
   "source": [
    "def get_ticker(all_positions):\n",
    "    tickers = []\n",
    "    for position in all_positions:\n",
    "        tickers.append(position.ticker)\n",
    "    return tickers"
   ]
  },
  {
   "cell_type": "markdown",
   "metadata": {},
   "source": [
    "Мы написали все необходимые для начала функции. Следующим шагом их нужно вызвать. Запишем результат работы каждой функции в соответсвующую переменную и затем передадим в датафрейм"
   ]
  },
  {
   "cell_type": "code",
   "execution_count": 18,
   "metadata": {},
   "outputs": [],
   "source": [
    "name = get_all_position_names(all_positions)\n",
    "instrument_type = get_instrument_type(all_positions)\n",
    "balance = get_balance(all_positions)\n",
    "avg_position_price = get_avg_position_price(all_positions)\n",
    "currency = get_currency(all_positions)\n",
    "tickers = get_ticker(all_positions)\n",
    "profit = get_expected_profit(all_positions)\n",
    "figis = get_figi(all_positions)\n",
    "current_position_price = get_current_price_by_figi(client, figis)\n",
    "total_price = get_total_price(balance, current_position_price)\n",
    "profit_percent = get_expected_profit_percent(balance, avg_position_price, profit)"
   ]
  },
  {
   "cell_type": "code",
   "execution_count": 19,
   "metadata": {},
   "outputs": [],
   "source": [
    "portfolio = pd.DataFrame({'position': name, 'instrument_type': instrument_type,\n",
    "                    'balance': balance, 'avg_position_price': avg_position_price,\n",
    "                    'current_position_price': current_position_price,\n",
    "                    'total_price': total_price, 'profit': profit, \n",
    "                     'profit_percent': profit_percent,\n",
    "                     'currency': currency, 'ticker': tickers\n",
    "                    })"
   ]
  },
  {
   "cell_type": "code",
   "execution_count": 20,
   "metadata": {},
   "outputs": [
    {
     "data": {
      "text/html": [
       "<div>\n",
       "<style scoped>\n",
       "    .dataframe tbody tr th:only-of-type {\n",
       "        vertical-align: middle;\n",
       "    }\n",
       "\n",
       "    .dataframe tbody tr th {\n",
       "        vertical-align: top;\n",
       "    }\n",
       "\n",
       "    .dataframe thead th {\n",
       "        text-align: right;\n",
       "    }\n",
       "</style>\n",
       "<table border=\"1\" class=\"dataframe\">\n",
       "  <thead>\n",
       "    <tr style=\"text-align: right;\">\n",
       "      <th></th>\n",
       "      <th>position</th>\n",
       "      <th>instrument_type</th>\n",
       "      <th>balance</th>\n",
       "      <th>avg_position_price</th>\n",
       "      <th>current_position_price</th>\n",
       "      <th>total_price</th>\n",
       "      <th>profit</th>\n",
       "      <th>profit_percent</th>\n",
       "      <th>currency</th>\n",
       "      <th>ticker</th>\n",
       "    </tr>\n",
       "  </thead>\n",
       "  <tbody>\n",
       "    <tr>\n",
       "      <th>0</th>\n",
       "      <td>Полюс Золото</td>\n",
       "      <td>Stock</td>\n",
       "      <td>1</td>\n",
       "      <td>17156.00</td>\n",
       "      <td>14081</td>\n",
       "      <td>14081.00</td>\n",
       "      <td>-3100.0</td>\n",
       "      <td>-18.07%</td>\n",
       "      <td>RUB</td>\n",
       "      <td>PLZL</td>\n",
       "    </tr>\n",
       "    <tr>\n",
       "      <th>1</th>\n",
       "      <td>Alibaba</td>\n",
       "      <td>Stock</td>\n",
       "      <td>1</td>\n",
       "      <td>263.30</td>\n",
       "      <td>212.1</td>\n",
       "      <td>212.10</td>\n",
       "      <td>-51.72</td>\n",
       "      <td>-19.64%</td>\n",
       "      <td>USD</td>\n",
       "      <td>BABA</td>\n",
       "    </tr>\n",
       "    <tr>\n",
       "      <th>2</th>\n",
       "      <td>Polymetal</td>\n",
       "      <td>Stock</td>\n",
       "      <td>3</td>\n",
       "      <td>1962.40</td>\n",
       "      <td>1620.6</td>\n",
       "      <td>4861.80</td>\n",
       "      <td>-1036.8</td>\n",
       "      <td>-17.61%</td>\n",
       "      <td>RUB</td>\n",
       "      <td>POLY</td>\n",
       "    </tr>\n",
       "    <tr>\n",
       "      <th>3</th>\n",
       "      <td>ГДР X5 RetailGroup</td>\n",
       "      <td>Stock</td>\n",
       "      <td>3</td>\n",
       "      <td>2808.50</td>\n",
       "      <td>2405</td>\n",
       "      <td>7215.00</td>\n",
       "      <td>-1255.5</td>\n",
       "      <td>-14.90%</td>\n",
       "      <td>RUB</td>\n",
       "      <td>FIVE</td>\n",
       "    </tr>\n",
       "    <tr>\n",
       "      <th>4</th>\n",
       "      <td>United medical group</td>\n",
       "      <td>Stock</td>\n",
       "      <td>24</td>\n",
       "      <td>928.19</td>\n",
       "      <td>925.5</td>\n",
       "      <td>22212.00</td>\n",
       "      <td>-64.5</td>\n",
       "      <td>-0.29%</td>\n",
       "      <td>RUB</td>\n",
       "      <td>GEMC</td>\n",
       "    </tr>\n",
       "    <tr>\n",
       "      <th>5</th>\n",
       "      <td>Аэрофлот</td>\n",
       "      <td>Stock</td>\n",
       "      <td>20.0</td>\n",
       "      <td>73.90</td>\n",
       "      <td>66.64</td>\n",
       "      <td>1332.800</td>\n",
       "      <td>-142.4</td>\n",
       "      <td>-9.63%</td>\n",
       "      <td>RUB</td>\n",
       "      <td>AFLT</td>\n",
       "    </tr>\n",
       "    <tr>\n",
       "      <th>6</th>\n",
       "      <td>Уралкалий выпуск 6</td>\n",
       "      <td>Bond</td>\n",
       "      <td>6</td>\n",
       "      <td>1032.90</td>\n",
       "      <td>950.8</td>\n",
       "      <td>5704.80</td>\n",
       "      <td>-327.6</td>\n",
       "      <td>-5.29%</td>\n",
       "      <td>RUB</td>\n",
       "      <td>RU000A101GZ6</td>\n",
       "    </tr>\n",
       "    <tr>\n",
       "      <th>7</th>\n",
       "      <td>Тинькофф Банк выпуск 3</td>\n",
       "      <td>Bond</td>\n",
       "      <td>5</td>\n",
       "      <td>1054.22</td>\n",
       "      <td>1007.6</td>\n",
       "      <td>5038.00</td>\n",
       "      <td>-102</td>\n",
       "      <td>-1.94%</td>\n",
       "      <td>RUB</td>\n",
       "      <td>RU000A100V79</td>\n",
       "    </tr>\n",
       "    <tr>\n",
       "      <th>8</th>\n",
       "      <td>О'КЕЙ выпуск 3</td>\n",
       "      <td>Bond</td>\n",
       "      <td>5</td>\n",
       "      <td>1020.01</td>\n",
       "      <td>983.2</td>\n",
       "      <td>4916.00</td>\n",
       "      <td>-134.5</td>\n",
       "      <td>-2.64%</td>\n",
       "      <td>RUB</td>\n",
       "      <td>RU000A1014B9</td>\n",
       "    </tr>\n",
       "    <tr>\n",
       "      <th>9</th>\n",
       "      <td>Гарант-Инвест БО 001P-05</td>\n",
       "      <td>Bond</td>\n",
       "      <td>1</td>\n",
       "      <td>764.15</td>\n",
       "      <td>792.212</td>\n",
       "      <td>792.21</td>\n",
       "      <td>31.44</td>\n",
       "      <td>4.11%</td>\n",
       "      <td>RUB</td>\n",
       "      <td>RU000A1005T9</td>\n",
       "    </tr>\n",
       "    <tr>\n",
       "      <th>10</th>\n",
       "      <td>FinEx Акции компаний IT-сектора США</td>\n",
       "      <td>Etf</td>\n",
       "      <td>8</td>\n",
       "      <td>1.10</td>\n",
       "      <td>1.2596</td>\n",
       "      <td>10.08</td>\n",
       "      <td>1.26</td>\n",
       "      <td>14.32%</td>\n",
       "      <td>USD</td>\n",
       "      <td>FXIM</td>\n",
       "    </tr>\n",
       "    <tr>\n",
       "      <th>11</th>\n",
       "      <td>Тинькофф NASDAQ</td>\n",
       "      <td>Etf</td>\n",
       "      <td>153</td>\n",
       "      <td>0.08</td>\n",
       "      <td>0.1085</td>\n",
       "      <td>16.83</td>\n",
       "      <td>3.63</td>\n",
       "      <td>29.66%</td>\n",
       "      <td>USD</td>\n",
       "      <td>TECH</td>\n",
       "    </tr>\n",
       "    <tr>\n",
       "      <th>12</th>\n",
       "      <td>Тинькофф S&amp;P 500</td>\n",
       "      <td>Etf</td>\n",
       "      <td>1406</td>\n",
       "      <td>0.10</td>\n",
       "      <td>0.1106</td>\n",
       "      <td>154.66</td>\n",
       "      <td>7.43</td>\n",
       "      <td>5.28%</td>\n",
       "      <td>USD</td>\n",
       "      <td>TSPX</td>\n",
       "    </tr>\n",
       "    <tr>\n",
       "      <th>13</th>\n",
       "      <td>Тинькофф NASDAQ Biotech</td>\n",
       "      <td>Etf</td>\n",
       "      <td>35</td>\n",
       "      <td>0.10</td>\n",
       "      <td>0.1038</td>\n",
       "      <td>3.50</td>\n",
       "      <td>0.22</td>\n",
       "      <td>6.29%</td>\n",
       "      <td>USD</td>\n",
       "      <td>TBIO</td>\n",
       "    </tr>\n",
       "    <tr>\n",
       "      <th>14</th>\n",
       "      <td>FinEx Акции глобального рынка</td>\n",
       "      <td>Etf</td>\n",
       "      <td>753</td>\n",
       "      <td>1.81</td>\n",
       "      <td>1.8604</td>\n",
       "      <td>1400.58</td>\n",
       "      <td>31.59</td>\n",
       "      <td>2.32%</td>\n",
       "      <td>RUB</td>\n",
       "      <td>FXWO</td>\n",
       "    </tr>\n",
       "    <tr>\n",
       "      <th>15</th>\n",
       "      <td>Доллар США</td>\n",
       "      <td>Currency</td>\n",
       "      <td>0.09</td>\n",
       "      <td>73.99</td>\n",
       "      <td>74.0725</td>\n",
       "      <td>6.6663</td>\n",
       "      <td>0.01</td>\n",
       "      <td>0.15%</td>\n",
       "      <td>RUB</td>\n",
       "      <td>USD000UTSTOM</td>\n",
       "    </tr>\n",
       "  </tbody>\n",
       "</table>\n",
       "</div>"
      ],
      "text/plain": [
       "                               position instrument_type balance  \\\n",
       "0                          Полюс Золото           Stock       1   \n",
       "1                               Alibaba           Stock       1   \n",
       "2                             Polymetal           Stock       3   \n",
       "3                    ГДР X5 RetailGroup           Stock       3   \n",
       "4                  United medical group           Stock      24   \n",
       "5                              Аэрофлот           Stock    20.0   \n",
       "6                    Уралкалий выпуск 6            Bond       6   \n",
       "7                Тинькофф Банк выпуск 3            Bond       5   \n",
       "8                        О'КЕЙ выпуск 3            Bond       5   \n",
       "9              Гарант-Инвест БО 001P-05            Bond       1   \n",
       "10  FinEx Акции компаний IT-сектора США             Etf       8   \n",
       "11                      Тинькофф NASDAQ             Etf     153   \n",
       "12                     Тинькофф S&P 500             Etf    1406   \n",
       "13              Тинькофф NASDAQ Biotech             Etf      35   \n",
       "14        FinEx Акции глобального рынка             Etf     753   \n",
       "15                           Доллар США        Currency    0.09   \n",
       "\n",
       "   avg_position_price current_position_price total_price   profit  \\\n",
       "0            17156.00                  14081    14081.00  -3100.0   \n",
       "1              263.30                  212.1      212.10   -51.72   \n",
       "2             1962.40                 1620.6     4861.80  -1036.8   \n",
       "3             2808.50                   2405     7215.00  -1255.5   \n",
       "4              928.19                  925.5    22212.00    -64.5   \n",
       "5               73.90                  66.64    1332.800   -142.4   \n",
       "6             1032.90                  950.8     5704.80   -327.6   \n",
       "7             1054.22                 1007.6     5038.00     -102   \n",
       "8             1020.01                  983.2     4916.00   -134.5   \n",
       "9              764.15                792.212      792.21    31.44   \n",
       "10               1.10                 1.2596       10.08     1.26   \n",
       "11               0.08                 0.1085       16.83     3.63   \n",
       "12               0.10                 0.1106      154.66     7.43   \n",
       "13               0.10                 0.1038        3.50     0.22   \n",
       "14               1.81                 1.8604     1400.58    31.59   \n",
       "15              73.99                74.0725      6.6663     0.01   \n",
       "\n",
       "   profit_percent currency        ticker  \n",
       "0         -18.07%      RUB          PLZL  \n",
       "1         -19.64%      USD          BABA  \n",
       "2         -17.61%      RUB          POLY  \n",
       "3         -14.90%      RUB          FIVE  \n",
       "4          -0.29%      RUB          GEMC  \n",
       "5          -9.63%      RUB          AFLT  \n",
       "6          -5.29%      RUB  RU000A101GZ6  \n",
       "7          -1.94%      RUB  RU000A100V79  \n",
       "8          -2.64%      RUB  RU000A1014B9  \n",
       "9           4.11%      RUB  RU000A1005T9  \n",
       "10         14.32%      USD          FXIM  \n",
       "11         29.66%      USD          TECH  \n",
       "12          5.28%      USD          TSPX  \n",
       "13          6.29%      USD          TBIO  \n",
       "14          2.32%      RUB          FXWO  \n",
       "15          0.15%      RUB  USD000UTSTOM  "
      ]
     },
     "execution_count": 20,
     "metadata": {},
     "output_type": "execute_result"
    }
   ],
   "source": [
    "portfolio"
   ]
  },
  {
   "cell_type": "markdown",
   "metadata": {},
   "source": [
    "Данные получены и преобразованы в более понятный для человека формат, однако не хватает множества вспомогательных величин. Например:\n",
    "<li> Общий объём портфеля (в рублях и долларах)\n",
    "<li> Профит портфеоя в абсолютных единицах (в рублях и долларах)\n",
    "<li> Остаток валюты (в рубли и долларах) </li>\n",
    "    \n"
   ]
  },
  {
   "cell_type": "markdown",
   "metadata": {},
   "source": [
    "### Объем портфеля и остаток валюты"
   ]
  },
  {
   "cell_type": "code",
   "execution_count": 21,
   "metadata": {},
   "outputs": [],
   "source": [
    "def get_portfolio_currency():\n",
    "    currencies = client.get_portfolio_currencies() # получаем список валют: eur, rub, usd\n",
    "    rub = currencies.payload.currencies[1].balance # выбираем rub\n",
    "    usd = currencies.payload.currencies[2].balance # выбираем usd\n",
    "    return rub, usd"
   ]
  },
  {
   "cell_type": "code",
   "execution_count": 22,
   "metadata": {},
   "outputs": [],
   "source": [
    "def get_course_usd_to_rub():\n",
    "    dollar_figi = 'BBG0013HGFT4'\n",
    "    try: # если торги активны\n",
    "        return (client.get_market_orderbook(figi=dollar_figi, depth=1)).payload.asks[0].price # получаем текущий курс доллара\n",
    "    except: # если торги неактивны\n",
    "        return client.get_market_orderbook(figi=dollar_figi, depth=1).payload.close_price"
   ]
  },
  {
   "cell_type": "code",
   "execution_count": 55,
   "metadata": {},
   "outputs": [],
   "source": [
    "def get_total_portfolio_rub(portfolio):\n",
    "    rub, usd = get_portfolio_currency() # получаем остаток рублей и долларов в портфеле\n",
    "    course_usd_to_rub = get_course_usd_to_rub() # получаем актуальный курс доллара\n",
    "    rub_position = portfolio.loc[portfolio['currency'] == 'RUB']['total_price'].sum() # складываем все рублевые активы\n",
    "    usd_position = portfolio.loc[portfolio['currency'] == 'USD']['total_price'].sum() # складываем все долларовые активы\n",
    "    total_sum_rub = rub + rub_position + course_usd_to_rub * (usd + usd_position) # суммируем все и переводим доллары в рубли\n",
    "    return f'Объём портфеля в рублях: {total_sum_rub.quantize(Decimal(\"1.00\"))}р', total_sum_rub"
   ]
  },
  {
   "cell_type": "code",
   "execution_count": 56,
   "metadata": {},
   "outputs": [],
   "source": [
    "def get_total_portfolio_usd(portfolio):\n",
    "    rub, usd = get_portfolio_currency() # получаем остаток рублей и долларов в портфеле\n",
    "    course_usd_to_rub = get_course_usd_to_rub() # получаем актуальный курс доллара\n",
    "    rub_position = portfolio.loc[portfolio['currency'] == 'RUB']['total_price'].sum() # складываем все рублевые активы\n",
    "    usd_position = portfolio.loc[portfolio['currency'] == 'USD']['total_price'].sum() # складываем все долларовые активы\n",
    "    total_sum_usd = (rub + rub_position) / course_usd_to_rub + usd + usd_position # суммируем все и переводим доллары в рубли\n",
    "    return f'Объём портфеля в долларах: {total_sum_usd.quantize(Decimal(\"1.00\"))}$', total_sum_usd"
   ]
  },
  {
   "cell_type": "code",
   "execution_count": 57,
   "metadata": {},
   "outputs": [
    {
     "data": {
      "text/plain": [
       "'Объём портфеля в рублях: 97719.13р'"
      ]
     },
     "execution_count": 57,
     "metadata": {},
     "output_type": "execute_result"
    }
   ],
   "source": [
    "total_portfolio_rub, total_sum_rub = get_total_portfolio_rub(portfolio)\n",
    "total_portfolio_rub"
   ]
  },
  {
   "cell_type": "code",
   "execution_count": 58,
   "metadata": {},
   "outputs": [
    {
     "data": {
      "text/plain": [
       "'Объём портфеля в долларах: 1319.24$'"
      ]
     },
     "execution_count": 58,
     "metadata": {},
     "output_type": "execute_result"
    }
   ],
   "source": [
    "total_portfolio_usd, total_sum_usd = get_total_portfolio_usd(portfolio)\n",
    "total_portfolio_usd"
   ]
  },
  {
   "cell_type": "markdown",
   "metadata": {},
   "source": [
    "### Профит портфеля"
   ]
  },
  {
   "cell_type": "code",
   "execution_count": 67,
   "metadata": {},
   "outputs": [],
   "source": [
    "def get_total_profit_rub(portfolio):\n",
    "    course_usd_to_rub = get_course_usd_to_rub() # получаем актуальный курс доллара\n",
    "    rub_position = portfolio.loc[portfolio['currency'] == 'RUB']['profit'].sum() # складываем все рублевые активы\n",
    "    usd_position = portfolio.loc[portfolio['currency'] == 'USD']['profit'].sum() # складываем все долларовые активы\n",
    "    total_profit = rub_position + course_usd_to_rub * usd_position # суммируем все и переводим доллары в рубли\n",
    "    return f'Профит портфеля в рублях: {total_profit.quantize(Decimal(\"1.00\"))}р', f'Профит портфеля в процентах: {((total_profit / total_sum_rub)*100).quantize(Decimal(\"1.00\"))}%'"
   ]
  },
  {
   "cell_type": "code",
   "execution_count": 68,
   "metadata": {},
   "outputs": [
    {
     "data": {
      "text/plain": [
       "('Профит портфеля в рублях: -9002.42р', 'Профит портфеля в процентах: -9.21%')"
      ]
     },
     "execution_count": 68,
     "metadata": {},
     "output_type": "execute_result"
    }
   ],
   "source": [
    "get_total_profit_rub(portfolio)"
   ]
  },
  {
   "cell_type": "code",
   "execution_count": 69,
   "metadata": {},
   "outputs": [],
   "source": [
    "def get_total_profit_usd(portfolio):\n",
    "    course_usd_to_rub = get_course_usd_to_rub() # получаем актуальный курс доллара\n",
    "    rub_position = portfolio.loc[portfolio['currency'] == 'RUB']['profit'].sum() # складываем все рублевые активы\n",
    "    usd_position = portfolio.loc[portfolio['currency'] == 'USD']['profit'].sum() # складываем все долларовые активы\n",
    "    total_profit = rub_position / course_usd_to_rub + usd_position # суммируем все и переводим доллары в рубли\n",
    "    return f'Профит портфеля в долларах: {total_profit.quantize(Decimal(\"1.00\"))}$', f'Профит портфеля в процентах: {((total_profit / total_sum_usd) * 100).quantize(Decimal(\"1.00\"))}%'"
   ]
  },
  {
   "cell_type": "code",
   "execution_count": 70,
   "metadata": {},
   "outputs": [
    {
     "data": {
      "text/plain": [
       "('Профит портфеля в долларах: -121.54$', 'Профит портфеля в процентах: -9.21%')"
      ]
     },
     "execution_count": 70,
     "metadata": {},
     "output_type": "execute_result"
    }
   ],
   "source": [
    "get_total_profit_usd(portfolio)"
   ]
  },
  {
   "cell_type": "code",
   "execution_count": null,
   "metadata": {},
   "outputs": [],
   "source": [
    "# TODO\n",
    "# 1. Operation list\n",
    "# 2. Smth with taxes"
   ]
  },
  {
   "cell_type": "code",
   "execution_count": null,
   "metadata": {},
   "outputs": [],
   "source": [
    "client??"
   ]
  },
  {
   "cell_type": "code",
   "execution_count": null,
   "metadata": {},
   "outputs": [],
   "source": [
    "tinvest.MarketOrderRequest??"
   ]
  },
  {
   "cell_type": "code",
   "execution_count": null,
   "metadata": {},
   "outputs": [],
   "source": []
  }
 ],
 "metadata": {
  "kernelspec": {
   "display_name": "Python 3",
   "language": "python",
   "name": "python3"
  },
  "language_info": {
   "codemirror_mode": {
    "name": "ipython",
    "version": 3
   },
   "file_extension": ".py",
   "mimetype": "text/x-python",
   "name": "python",
   "nbconvert_exporter": "python",
   "pygments_lexer": "ipython3",
   "version": "3.8.8"
  }
 },
 "nbformat": 4,
 "nbformat_minor": 4
}
