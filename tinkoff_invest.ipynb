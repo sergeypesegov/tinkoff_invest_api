{
 "cells": [
  {
   "cell_type": "code",
   "execution_count": 1,
   "metadata": {},
   "outputs": [],
   "source": [
    "# установим нужную библиотеку\n",
    "#!pip install tinvest[cli]"
   ]
  },
  {
   "cell_type": "markdown",
   "metadata": {},
   "source": [
    "# 1. Получение токена и проверка соединения с сервером"
   ]
  },
  {
   "cell_type": "markdown",
   "metadata": {},
   "source": [
    "Ссылка на github, откуда берется библиотека: https://github.com/daxartio/tinvest\n",
    "\n",
    "Ссылка на документацию по использованию API Tinkoff: https://tinkoffcreditsystems.github.io/invest-openapi/"
   ]
  },
  {
   "cell_type": "markdown",
   "metadata": {},
   "source": [
    "Устанавливаем необходимую библиотеку. Далее нужно получить токен. Как это сделать - описано здесь: https://tinkoffcreditsystems.github.io/invest-openapi/auth/\n",
    "\n",
    "Запишем токен в отдельном файле `tinkoff_token` в переменную `token` и импортируем"
   ]
  },
  {
   "cell_type": "code",
   "execution_count": 2,
   "metadata": {},
   "outputs": [],
   "source": [
    "import tinvest\n",
    "import pandas as pd\n",
    "import numpy as np\n",
    "from decimal import Decimal\n",
    "from tinkoff_token import token # токен хранится здесь\n",
    "import plotly.express as px"
   ]
  },
  {
   "cell_type": "code",
   "execution_count": 3,
   "metadata": {},
   "outputs": [],
   "source": [
    "TOKEN = token\n",
    "client = tinvest.SyncClient(TOKEN)\n",
    "\n",
    "response = client.get_portfolio()  # tinvest.PortfolioResponse\n",
    "#print(response.payload)"
   ]
  },
  {
   "cell_type": "markdown",
   "metadata": {},
   "source": [
    "Напишем примитивную функцию проверки обработки нашего запроса"
   ]
  },
  {
   "cell_type": "code",
   "execution_count": 4,
   "metadata": {},
   "outputs": [],
   "source": [
    "def check_response_status(response):\n",
    "    if response.status == 'Ok':\n",
    "        return 'Запрос обработан'\n",
    "    return 'Ошибка обработки запроса'"
   ]
  },
  {
   "cell_type": "code",
   "execution_count": 5,
   "metadata": {},
   "outputs": [
    {
     "data": {
      "text/plain": [
       "'Запрос обработан'"
      ]
     },
     "execution_count": 5,
     "metadata": {},
     "output_type": "execute_result"
    }
   ],
   "source": [
    "check_response_status(response)"
   ]
  },
  {
   "cell_type": "markdown",
   "metadata": {},
   "source": [
    "Токен работает, сервер отвечает.\n",
    "\n",
    "Теперь получим `id` брокерского аккаунта. У меня их два: ИИС и обычный. Всё самое интересное лежит на обычном аккаунте, поэтому возьмем его и по этому `id` обновим ответ сервера"
   ]
  },
  {
   "cell_type": "code",
   "execution_count": 6,
   "metadata": {},
   "outputs": [],
   "source": [
    "broker_account_id='2038650350'\n",
    "response = client.get_portfolio(broker_account_id='2038650350')"
   ]
  },
  {
   "cell_type": "code",
   "execution_count": 7,
   "metadata": {},
   "outputs": [],
   "source": [
    "#response"
   ]
  },
  {
   "cell_type": "markdown",
   "metadata": {},
   "source": [
    "Видим, что в `response` лежит не человекочитаемый формат. Распарсим его, приведя в итоге к классическому `pandas.DataFrame`"
   ]
  },
  {
   "cell_type": "code",
   "execution_count": 8,
   "metadata": {},
   "outputs": [],
   "source": [
    "all_positions = response.payload.positions"
   ]
  },
  {
   "cell_type": "markdown",
   "metadata": {},
   "source": [
    "# 2. Получение, преобразование и анализ данных по портфелю"
   ]
  },
  {
   "cell_type": "markdown",
   "metadata": {},
   "source": [
    "Для этого напишем простую функцию под каждый интересующий нас параметр, вызовем и результат работы поместим в DataFrame.\n",
    "\n",
    "Список интересующих нас параметров:\n",
    "\n",
    "<li> Position - наименование финансового инструмента \n",
    "<li> Instrument_type - тип финансового инструмента (stock, bond, etf, currency)\n",
    "<li> Balance - количество бумаг в портфеле\n",
    "<li> Avg_position_price - усредненная цена покупки\n",
    "<li> Total_price - цена актива. Рассчитывается как balance * avg_position_price\n",
    "<li> Profit - величина дохода в случае продажи в абсолютных единицах (может быть и отрицательной)\n",
    "<li> Profit_percent - величина дохода в случае продажи в процентах (может быть и отрицательной)\n",
    "<li> Currency - валюта\n",
    "<li> Ticker - тикер финансового инструмента"
   ]
  },
  {
   "cell_type": "markdown",
   "metadata": {},
   "source": [
    "P.S. Profit обновляется каждый раз при новом запросе к серверу"
   ]
  },
  {
   "cell_type": "code",
   "execution_count": 9,
   "metadata": {},
   "outputs": [],
   "source": [
    "def get_all_position_names(all_positions):\n",
    "    names = []\n",
    "    for position in all_positions:\n",
    "        names.append(position.name)\n",
    "    return names"
   ]
  },
  {
   "cell_type": "code",
   "execution_count": 10,
   "metadata": {},
   "outputs": [],
   "source": [
    "def get_instrument_type(all_positions):\n",
    "    instrument_type = []\n",
    "    for position in all_positions:\n",
    "        instrument_type.append(position.instrument_type.replace('InstrumentType', ''))\n",
    "    return instrument_type"
   ]
  },
  {
   "cell_type": "code",
   "execution_count": 11,
   "metadata": {},
   "outputs": [],
   "source": [
    "def get_balance(all_positions):\n",
    "    balance = []\n",
    "    for position in all_positions:\n",
    "        balance.append(position.balance)\n",
    "    return balance"
   ]
  },
  {
   "cell_type": "code",
   "execution_count": 12,
   "metadata": {},
   "outputs": [],
   "source": [
    "def get_avg_position_price(all_positions):\n",
    "    avg_position_price = []\n",
    "    for position in all_positions:\n",
    "        avg_position_price.append(position.average_position_price.value.quantize(Decimal('1.00')))\n",
    "    return avg_position_price"
   ]
  },
  {
   "cell_type": "code",
   "execution_count": 13,
   "metadata": {},
   "outputs": [],
   "source": [
    "def get_figi(all_positions):\n",
    "    figis = []\n",
    "    for i, figi in enumerate(all_positions):\n",
    "        figis.append(all_positions[i].figi)\n",
    "    return figis\n",
    "\n",
    "\n",
    "def get_current_price_by_figi(client, figis):\n",
    "    current_price = []\n",
    "    for figi in figis:\n",
    "        try:\n",
    "            current_price.append((client.get_market_orderbook(figi=figi, depth=1)).payload.asks[0].price)\n",
    "        except:\n",
    "            current_price.append((client.get_market_orderbook(figi=figi, depth=1)).payload.close_price)\n",
    "    return current_price"
   ]
  },
  {
   "cell_type": "code",
   "execution_count": 14,
   "metadata": {},
   "outputs": [],
   "source": [
    "def get_total_price(balance, current_position_price):\n",
    "    total_price = []\n",
    "    for i, elem in enumerate(balance):\n",
    "        total_price.append((balance[i] * current_position_price[i].quantize(Decimal('1.00'))))\n",
    "    return total_price"
   ]
  },
  {
   "cell_type": "code",
   "execution_count": 15,
   "metadata": {},
   "outputs": [],
   "source": [
    "def get_expected_profit(all_positions):\n",
    "    profit = []\n",
    "    for positions in all_positions:\n",
    "        profit.append(positions.expected_yield.value)\n",
    "    return profit"
   ]
  },
  {
   "cell_type": "code",
   "execution_count": 16,
   "metadata": {},
   "outputs": [],
   "source": [
    "def get_expected_profit_percent(balance, avg_position_price, profit):\n",
    "    profit_percent = []\n",
    "    for i, elem in enumerate(profit):\n",
    "        profit_percent.append(f'{((profit[i] / (balance[i] * avg_position_price[i])) * 100).quantize(Decimal(\"1.00\"))}%')\n",
    "    return profit_percent"
   ]
  },
  {
   "cell_type": "code",
   "execution_count": 17,
   "metadata": {},
   "outputs": [],
   "source": [
    "def get_currency(all_positions):\n",
    "    currency = []\n",
    "    for position in all_positions:\n",
    "        currency.append(position.average_position_price.currency.replace('Currency.', ''))\n",
    "    return currency"
   ]
  },
  {
   "cell_type": "code",
   "execution_count": 18,
   "metadata": {},
   "outputs": [],
   "source": [
    "def get_ticker(all_positions):\n",
    "    tickers = []\n",
    "    for position in all_positions:\n",
    "        tickers.append(position.ticker)\n",
    "    return tickers"
   ]
  },
  {
   "cell_type": "markdown",
   "metadata": {},
   "source": [
    "Мы написали все необходимые для начала функции. Следующим шагом их нужно вызвать. Запишем результат работы каждой функции в соответсвующую переменную и затем передадим в датафрейм"
   ]
  },
  {
   "cell_type": "code",
   "execution_count": 19,
   "metadata": {},
   "outputs": [],
   "source": [
    "name = get_all_position_names(all_positions)\n",
    "instrument_type = get_instrument_type(all_positions)\n",
    "balance = get_balance(all_positions)\n",
    "avg_position_price = get_avg_position_price(all_positions)\n",
    "currency = get_currency(all_positions)\n",
    "tickers = get_ticker(all_positions)\n",
    "profit = get_expected_profit(all_positions)\n",
    "figis = get_figi(all_positions)\n",
    "current_position_price = get_current_price_by_figi(client, figis)\n",
    "total_price = get_total_price(balance, current_position_price)\n",
    "profit_percent = get_expected_profit_percent(balance, avg_position_price, profit)"
   ]
  },
  {
   "cell_type": "code",
   "execution_count": 20,
   "metadata": {},
   "outputs": [],
   "source": [
    "portfolio = pd.DataFrame({'position': name, 'instrument_type': instrument_type,\n",
    "                    'balance': balance, 'avg_position_price': avg_position_price,\n",
    "                    'current_position_price': current_position_price,\n",
    "                    'total_price': total_price, 'profit': profit, \n",
    "                     'profit_percent': profit_percent,\n",
    "                     'currency': currency, 'ticker': tickers\n",
    "                    })"
   ]
  },
  {
   "cell_type": "code",
   "execution_count": 21,
   "metadata": {},
   "outputs": [
    {
     "data": {
      "text/html": [
       "<div>\n",
       "<style scoped>\n",
       "    .dataframe tbody tr th:only-of-type {\n",
       "        vertical-align: middle;\n",
       "    }\n",
       "\n",
       "    .dataframe tbody tr th {\n",
       "        vertical-align: top;\n",
       "    }\n",
       "\n",
       "    .dataframe thead th {\n",
       "        text-align: right;\n",
       "    }\n",
       "</style>\n",
       "<table border=\"1\" class=\"dataframe\">\n",
       "  <thead>\n",
       "    <tr style=\"text-align: right;\">\n",
       "      <th></th>\n",
       "      <th>position</th>\n",
       "      <th>instrument_type</th>\n",
       "      <th>balance</th>\n",
       "      <th>avg_position_price</th>\n",
       "      <th>current_position_price</th>\n",
       "      <th>total_price</th>\n",
       "      <th>profit</th>\n",
       "      <th>profit_percent</th>\n",
       "      <th>currency</th>\n",
       "      <th>ticker</th>\n",
       "    </tr>\n",
       "  </thead>\n",
       "  <tbody>\n",
       "    <tr>\n",
       "      <th>0</th>\n",
       "      <td>Полюс Золото</td>\n",
       "      <td>Stock</td>\n",
       "      <td>1</td>\n",
       "      <td>17156.00</td>\n",
       "      <td>13702</td>\n",
       "      <td>13702.00</td>\n",
       "      <td>-3453.5</td>\n",
       "      <td>-20.13%</td>\n",
       "      <td>RUB</td>\n",
       "      <td>PLZL</td>\n",
       "    </tr>\n",
       "    <tr>\n",
       "      <th>1</th>\n",
       "      <td>Polymetal</td>\n",
       "      <td>Stock</td>\n",
       "      <td>3</td>\n",
       "      <td>1962.40</td>\n",
       "      <td>1550.5</td>\n",
       "      <td>4651.50</td>\n",
       "      <td>-1235.7</td>\n",
       "      <td>-20.99%</td>\n",
       "      <td>RUB</td>\n",
       "      <td>POLY</td>\n",
       "    </tr>\n",
       "    <tr>\n",
       "      <th>2</th>\n",
       "      <td>ГДР X5 RetailGroup</td>\n",
       "      <td>Stock</td>\n",
       "      <td>3</td>\n",
       "      <td>2808.50</td>\n",
       "      <td>2332</td>\n",
       "      <td>6996.00</td>\n",
       "      <td>-1429.5</td>\n",
       "      <td>-16.97%</td>\n",
       "      <td>RUB</td>\n",
       "      <td>FIVE</td>\n",
       "    </tr>\n",
       "    <tr>\n",
       "      <th>3</th>\n",
       "      <td>United medical group</td>\n",
       "      <td>Stock</td>\n",
       "      <td>24</td>\n",
       "      <td>928.19</td>\n",
       "      <td>916.01</td>\n",
       "      <td>21984.24</td>\n",
       "      <td>-292.26</td>\n",
       "      <td>-1.31%</td>\n",
       "      <td>RUB</td>\n",
       "      <td>GEMC</td>\n",
       "    </tr>\n",
       "    <tr>\n",
       "      <th>4</th>\n",
       "      <td>Аэрофлот</td>\n",
       "      <td>Stock</td>\n",
       "      <td>20.0</td>\n",
       "      <td>73.90</td>\n",
       "      <td>67.08</td>\n",
       "      <td>1341.600</td>\n",
       "      <td>-136.4</td>\n",
       "      <td>-9.23%</td>\n",
       "      <td>RUB</td>\n",
       "      <td>AFLT</td>\n",
       "    </tr>\n",
       "    <tr>\n",
       "      <th>5</th>\n",
       "      <td>Alibaba</td>\n",
       "      <td>Stock</td>\n",
       "      <td>1</td>\n",
       "      <td>263.30</td>\n",
       "      <td>207.29</td>\n",
       "      <td>207.29</td>\n",
       "      <td>-55.91</td>\n",
       "      <td>-21.23%</td>\n",
       "      <td>USD</td>\n",
       "      <td>BABA</td>\n",
       "    </tr>\n",
       "    <tr>\n",
       "      <th>6</th>\n",
       "      <td>Уралкалий выпуск 6</td>\n",
       "      <td>Bond</td>\n",
       "      <td>6</td>\n",
       "      <td>1034.40</td>\n",
       "      <td>953.9</td>\n",
       "      <td>5723.40</td>\n",
       "      <td>-321</td>\n",
       "      <td>-5.17%</td>\n",
       "      <td>RUB</td>\n",
       "      <td>RU000A101GZ6</td>\n",
       "    </tr>\n",
       "    <tr>\n",
       "      <th>7</th>\n",
       "      <td>Тинькофф Банк выпуск 3</td>\n",
       "      <td>Bond</td>\n",
       "      <td>5</td>\n",
       "      <td>1056.03</td>\n",
       "      <td>1006</td>\n",
       "      <td>5030.00</td>\n",
       "      <td>-110.0</td>\n",
       "      <td>-2.08%</td>\n",
       "      <td>RUB</td>\n",
       "      <td>RU000A100V79</td>\n",
       "    </tr>\n",
       "    <tr>\n",
       "      <th>8</th>\n",
       "      <td>О'КЕЙ выпуск 3</td>\n",
       "      <td>Bond</td>\n",
       "      <td>5</td>\n",
       "      <td>1021.73</td>\n",
       "      <td>983.7</td>\n",
       "      <td>4918.50</td>\n",
       "      <td>-130.5</td>\n",
       "      <td>-2.55%</td>\n",
       "      <td>RUB</td>\n",
       "      <td>RU000A1014B9</td>\n",
       "    </tr>\n",
       "    <tr>\n",
       "      <th>9</th>\n",
       "      <td>Гарант-Инвест БО 001P-05</td>\n",
       "      <td>Bond</td>\n",
       "      <td>1</td>\n",
       "      <td>766.22</td>\n",
       "      <td>790.395</td>\n",
       "      <td>790.40</td>\n",
       "      <td>29.55</td>\n",
       "      <td>3.86%</td>\n",
       "      <td>RUB</td>\n",
       "      <td>RU000A1005T9</td>\n",
       "    </tr>\n",
       "    <tr>\n",
       "      <th>10</th>\n",
       "      <td>FinEx Акции компаний IT-сектора США</td>\n",
       "      <td>Etf</td>\n",
       "      <td>8</td>\n",
       "      <td>1.10</td>\n",
       "      <td>1.2823</td>\n",
       "      <td>10.24</td>\n",
       "      <td>1.48</td>\n",
       "      <td>16.82%</td>\n",
       "      <td>USD</td>\n",
       "      <td>FXIM</td>\n",
       "    </tr>\n",
       "    <tr>\n",
       "      <th>11</th>\n",
       "      <td>Тинькофф NASDAQ</td>\n",
       "      <td>Etf</td>\n",
       "      <td>153</td>\n",
       "      <td>0.08</td>\n",
       "      <td>0.1115</td>\n",
       "      <td>16.83</td>\n",
       "      <td>4.05</td>\n",
       "      <td>33.09%</td>\n",
       "      <td>USD</td>\n",
       "      <td>TECH</td>\n",
       "    </tr>\n",
       "    <tr>\n",
       "      <th>12</th>\n",
       "      <td>Тинькофф S&amp;P 500</td>\n",
       "      <td>Etf</td>\n",
       "      <td>1406</td>\n",
       "      <td>0.10</td>\n",
       "      <td>0.1117</td>\n",
       "      <td>154.66</td>\n",
       "      <td>9.4</td>\n",
       "      <td>6.69%</td>\n",
       "      <td>USD</td>\n",
       "      <td>TSPX</td>\n",
       "    </tr>\n",
       "    <tr>\n",
       "      <th>13</th>\n",
       "      <td>Тинькофф NASDAQ Biotech</td>\n",
       "      <td>Etf</td>\n",
       "      <td>35</td>\n",
       "      <td>0.10</td>\n",
       "      <td>0.1065</td>\n",
       "      <td>3.85</td>\n",
       "      <td>0.32</td>\n",
       "      <td>9.14%</td>\n",
       "      <td>USD</td>\n",
       "      <td>TBIO</td>\n",
       "    </tr>\n",
       "    <tr>\n",
       "      <th>14</th>\n",
       "      <td>FinEx Акции глобального рынка</td>\n",
       "      <td>Etf</td>\n",
       "      <td>753</td>\n",
       "      <td>1.81</td>\n",
       "      <td>1.852</td>\n",
       "      <td>1393.05</td>\n",
       "      <td>31.22</td>\n",
       "      <td>2.29%</td>\n",
       "      <td>RUB</td>\n",
       "      <td>FXWO</td>\n",
       "    </tr>\n",
       "    <tr>\n",
       "      <th>15</th>\n",
       "      <td>Доллар США</td>\n",
       "      <td>Currency</td>\n",
       "      <td>0.09</td>\n",
       "      <td>73.99</td>\n",
       "      <td>73.6275</td>\n",
       "      <td>6.6267</td>\n",
       "      <td>-0.03</td>\n",
       "      <td>-0.45%</td>\n",
       "      <td>RUB</td>\n",
       "      <td>USD000UTSTOM</td>\n",
       "    </tr>\n",
       "  </tbody>\n",
       "</table>\n",
       "</div>"
      ],
      "text/plain": [
       "                               position instrument_type balance  \\\n",
       "0                          Полюс Золото           Stock       1   \n",
       "1                             Polymetal           Stock       3   \n",
       "2                    ГДР X5 RetailGroup           Stock       3   \n",
       "3                  United medical group           Stock      24   \n",
       "4                              Аэрофлот           Stock    20.0   \n",
       "5                               Alibaba           Stock       1   \n",
       "6                    Уралкалий выпуск 6            Bond       6   \n",
       "7                Тинькофф Банк выпуск 3            Bond       5   \n",
       "8                        О'КЕЙ выпуск 3            Bond       5   \n",
       "9              Гарант-Инвест БО 001P-05            Bond       1   \n",
       "10  FinEx Акции компаний IT-сектора США             Etf       8   \n",
       "11                      Тинькофф NASDAQ             Etf     153   \n",
       "12                     Тинькофф S&P 500             Etf    1406   \n",
       "13              Тинькофф NASDAQ Biotech             Etf      35   \n",
       "14        FinEx Акции глобального рынка             Etf     753   \n",
       "15                           Доллар США        Currency    0.09   \n",
       "\n",
       "   avg_position_price current_position_price total_price   profit  \\\n",
       "0            17156.00                  13702    13702.00  -3453.5   \n",
       "1             1962.40                 1550.5     4651.50  -1235.7   \n",
       "2             2808.50                   2332     6996.00  -1429.5   \n",
       "3              928.19                 916.01    21984.24  -292.26   \n",
       "4               73.90                  67.08    1341.600   -136.4   \n",
       "5              263.30                 207.29      207.29   -55.91   \n",
       "6             1034.40                  953.9     5723.40     -321   \n",
       "7             1056.03                   1006     5030.00   -110.0   \n",
       "8             1021.73                  983.7     4918.50   -130.5   \n",
       "9              766.22                790.395      790.40    29.55   \n",
       "10               1.10                 1.2823       10.24     1.48   \n",
       "11               0.08                 0.1115       16.83     4.05   \n",
       "12               0.10                 0.1117      154.66      9.4   \n",
       "13               0.10                 0.1065        3.85     0.32   \n",
       "14               1.81                  1.852     1393.05    31.22   \n",
       "15              73.99                73.6275      6.6267    -0.03   \n",
       "\n",
       "   profit_percent currency        ticker  \n",
       "0         -20.13%      RUB          PLZL  \n",
       "1         -20.99%      RUB          POLY  \n",
       "2         -16.97%      RUB          FIVE  \n",
       "3          -1.31%      RUB          GEMC  \n",
       "4          -9.23%      RUB          AFLT  \n",
       "5         -21.23%      USD          BABA  \n",
       "6          -5.17%      RUB  RU000A101GZ6  \n",
       "7          -2.08%      RUB  RU000A100V79  \n",
       "8          -2.55%      RUB  RU000A1014B9  \n",
       "9           3.86%      RUB  RU000A1005T9  \n",
       "10         16.82%      USD          FXIM  \n",
       "11         33.09%      USD          TECH  \n",
       "12          6.69%      USD          TSPX  \n",
       "13          9.14%      USD          TBIO  \n",
       "14          2.29%      RUB          FXWO  \n",
       "15         -0.45%      RUB  USD000UTSTOM  "
      ]
     },
     "execution_count": 21,
     "metadata": {},
     "output_type": "execute_result"
    }
   ],
   "source": [
    "portfolio"
   ]
  },
  {
   "cell_type": "markdown",
   "metadata": {},
   "source": [
    "Данные получены и преобразованы в более понятный для человека формат, однако не хватает множества вспомогательных величин. Например:\n",
    "<li> Общий объём портфеля (в рублях и долларах)\n",
    "<li> Профит портфеоя в абсолютных единицах (в рублях и долларах)\n",
    "<li> Остаток валюты (в рубли и долларах) </li>\n",
    "    \n"
   ]
  },
  {
   "cell_type": "markdown",
   "metadata": {},
   "source": [
    "### Объем портфеля и остаток валюты"
   ]
  },
  {
   "cell_type": "code",
   "execution_count": 22,
   "metadata": {},
   "outputs": [],
   "source": [
    "def get_portfolio_currency():\n",
    "    currencies = client.get_portfolio_currencies() # получаем список валют: eur, rub, usd\n",
    "    rub = currencies.payload.currencies[1].balance # выбираем rub\n",
    "    usd = currencies.payload.currencies[2].balance # выбираем usd\n",
    "    return rub, usd"
   ]
  },
  {
   "cell_type": "code",
   "execution_count": 23,
   "metadata": {},
   "outputs": [],
   "source": [
    "def get_course_usd_to_rub():\n",
    "    dollar_figi = 'BBG0013HGFT4'\n",
    "    try: # если торги активны\n",
    "        return (client.get_market_orderbook(figi=dollar_figi, depth=1)).payload.asks[0].price # получаем текущий курс доллара\n",
    "    except: # если торги неактивны\n",
    "        return client.get_market_orderbook(figi=dollar_figi, depth=1).payload.close_price"
   ]
  },
  {
   "cell_type": "code",
   "execution_count": 24,
   "metadata": {},
   "outputs": [],
   "source": [
    "def get_total_rub_position(portfolio):\n",
    "    return portfolio.loc[portfolio['currency'] == 'RUB']['total_price'].sum()"
   ]
  },
  {
   "cell_type": "code",
   "execution_count": 25,
   "metadata": {},
   "outputs": [],
   "source": [
    "def get_total_usd_position(portfolio):\n",
    "    return portfolio.loc[portfolio['currency'] == 'USD']['total_price'].sum()"
   ]
  },
  {
   "cell_type": "code",
   "execution_count": 26,
   "metadata": {},
   "outputs": [],
   "source": [
    "def get_total_portfolio_rub(portfolio):\n",
    "    rub, usd = get_portfolio_currency() # получаем остаток рублей и долларов в портфеле\n",
    "    course_usd_to_rub = get_course_usd_to_rub() # получаем актуальный курс доллара\n",
    "    rub_position = get_total_rub_position(portfolio) # складываем все рублевые активы\n",
    "    usd_position = get_total_usd_position(portfolio) # складываем все долларовые активы\n",
    "    total_sum_rub = rub + rub_position + course_usd_to_rub * (usd + usd_position) # суммируем все и переводим доллары в рубли\n",
    "    return f'Объём портфеля в рублях: {total_sum_rub.quantize(Decimal(\"1.00\"))}р', total_sum_rub"
   ]
  },
  {
   "cell_type": "code",
   "execution_count": 27,
   "metadata": {},
   "outputs": [],
   "source": [
    "def get_total_portfolio_usd(portfolio):\n",
    "    rub, usd = get_portfolio_currency() # получаем остаток рублей и долларов в портфеле\n",
    "    course_usd_to_rub = get_course_usd_to_rub() # получаем актуальный курс доллара\n",
    "    rub_position = portfolio.loc[portfolio['currency'] == 'RUB']['total_price'].sum() # складываем все рублевые активы\n",
    "    usd_position = portfolio.loc[portfolio['currency'] == 'USD']['total_price'].sum() # складываем все долларовые активы\n",
    "    total_sum_usd = (rub + rub_position) / course_usd_to_rub + usd + usd_position # суммируем все и переводим доллары в рубли\n",
    "    return f'Объём портфеля в долларах: {total_sum_usd.quantize(Decimal(\"1.00\"))}$', total_sum_usd"
   ]
  },
  {
   "cell_type": "code",
   "execution_count": 28,
   "metadata": {},
   "outputs": [
    {
     "data": {
      "text/plain": [
       "'Объём портфеля в рублях: 96202.21р'"
      ]
     },
     "execution_count": 28,
     "metadata": {},
     "output_type": "execute_result"
    }
   ],
   "source": [
    "total_portfolio_rub, total_sum_rub = get_total_portfolio_rub(portfolio)\n",
    "total_portfolio_rub"
   ]
  },
  {
   "cell_type": "code",
   "execution_count": 29,
   "metadata": {},
   "outputs": [
    {
     "data": {
      "text/plain": [
       "'Объём портфеля в долларах: 1306.61$'"
      ]
     },
     "execution_count": 29,
     "metadata": {},
     "output_type": "execute_result"
    }
   ],
   "source": [
    "total_portfolio_usd, total_sum_usd = get_total_portfolio_usd(portfolio)\n",
    "total_portfolio_usd"
   ]
  },
  {
   "cell_type": "markdown",
   "metadata": {},
   "source": [
    "### Профит портфеля"
   ]
  },
  {
   "cell_type": "code",
   "execution_count": 30,
   "metadata": {},
   "outputs": [],
   "source": [
    "def get_rub_profit_position(portfolio):\n",
    "    return portfolio.loc[portfolio['currency'] == 'RUB']['profit'].sum()"
   ]
  },
  {
   "cell_type": "code",
   "execution_count": 31,
   "metadata": {},
   "outputs": [],
   "source": [
    "def get_usd_profit_position(portfolio):\n",
    "    return portfolio.loc[portfolio['currency'] == 'USD']['profit'].sum()"
   ]
  },
  {
   "cell_type": "code",
   "execution_count": 32,
   "metadata": {},
   "outputs": [],
   "source": [
    "def get_total_profit_rub(portfolio):\n",
    "    course_usd_to_rub = get_course_usd_to_rub() # получаем актуальный курс доллара\n",
    "    rub_position = get_rub_profit_position(portfolio) # складываем все рублевые активы\n",
    "    usd_position = get_usd_profit_position(portfolio) # складываем все долларовые активы\n",
    "    total_profit = rub_position + course_usd_to_rub * usd_position # суммируем все и переводим доллары в рубли\n",
    "    return f'Профит портфеля в рублях: {total_profit.quantize(Decimal(\"1.00\"))}р', \\\n",
    "           f'Профит портфеля в процентах: {((total_profit / total_sum_rub)*100).quantize(Decimal(\"1.00\"))}%', \\\n",
    "           total_profit"
   ]
  },
  {
   "cell_type": "code",
   "execution_count": 33,
   "metadata": {},
   "outputs": [
    {
     "data": {
      "text/plain": [
       "('Профит портфеля в рублях: -10041.81р',\n",
       " 'Профит портфеля в процентах: -10.44%',\n",
       " Decimal('-10041.814150'))"
      ]
     },
     "execution_count": 33,
     "metadata": {},
     "output_type": "execute_result"
    }
   ],
   "source": [
    "get_total_profit_rub(portfolio)"
   ]
  },
  {
   "cell_type": "code",
   "execution_count": 34,
   "metadata": {},
   "outputs": [],
   "source": [
    "def get_total_profit_usd(portfolio):\n",
    "    course_usd_to_rub = get_course_usd_to_rub() # получаем актуальный курс доллара\n",
    "    rub_position = get_rub_profit_position(portfolio) # складываем все рублевые активы\n",
    "    usd_position = get_usd_profit_position(portfolio) # складываем все долларовые активы\n",
    "    total_profit = rub_position / course_usd_to_rub + usd_position # суммируем все и переводим доллары в рубли\n",
    "    return f'Профит портфеля в долларах: {total_profit.quantize(Decimal(\"1.00\"))}$', \\\n",
    "           f'Профит портфеля в процентах: {((total_profit / total_sum_usd) * 100).quantize(Decimal(\"1.00\"))}%', \\\n",
    "           total_profit"
   ]
  },
  {
   "cell_type": "code",
   "execution_count": 35,
   "metadata": {},
   "outputs": [
    {
     "data": {
      "text/plain": [
       "('Профит портфеля в долларах: -136.39$',\n",
       " 'Профит портфеля в процентах: -10.44%',\n",
       " Decimal('-136.3867325387932498047604496'))"
      ]
     },
     "execution_count": 35,
     "metadata": {},
     "output_type": "execute_result"
    }
   ],
   "source": [
    "get_total_profit_usd(portfolio)"
   ]
  },
  {
   "cell_type": "markdown",
   "metadata": {},
   "source": [
    "### Профит портфеля с учетом ндфл 13%"
   ]
  },
  {
   "cell_type": "code",
   "execution_count": 36,
   "metadata": {},
   "outputs": [],
   "source": [
    "def get_total_profit_rub_after_taxes(portfolio):\n",
    "    tax_size = 0.87 # возьмем сразу величину 0.87 для дальнейших расчетов\n",
    "    total_sum = get_total_profit_rub(portfolio)\n",
    "    if total_sum[2] > 0:\n",
    "        return 'После уплаты НДФЛ 13%:',total_sum[1], (total_sum[2] * tax_size).quantize(Decimal(\"1.00\"))\n",
    "    return 'После уплаты НДФЛ 13%:', total_sum[1], total_sum[2].quantize(Decimal(\"1.00\"))"
   ]
  },
  {
   "cell_type": "code",
   "execution_count": 37,
   "metadata": {},
   "outputs": [
    {
     "data": {
      "text/plain": [
       "('После уплаты НДФЛ 13%:',\n",
       " 'Профит портфеля в процентах: -10.44%',\n",
       " Decimal('-10041.81'))"
      ]
     },
     "execution_count": 37,
     "metadata": {},
     "output_type": "execute_result"
    }
   ],
   "source": [
    "get_total_profit_rub_after_taxes(portfolio)"
   ]
  },
  {
   "cell_type": "code",
   "execution_count": 38,
   "metadata": {},
   "outputs": [],
   "source": [
    "def get_total_profit_usd_after_taxes(portfolio):\n",
    "    tax_size = 0.87 # возьмем сразу величину 0.87 для дальнейших расчетов\n",
    "    total_sum = get_total_profit_usd(portfolio)\n",
    "    if total_sum[2] > 0:\n",
    "        return 'После уплаты НДФЛ 13%:',total_sum[1], (total_sum[2] * tax_size).quantize(Decimal(\"1.00\"))\n",
    "    return 'После уплаты НДФЛ 13%:', total_sum[1], total_sum[2].quantize(Decimal(\"1.00\"))"
   ]
  },
  {
   "cell_type": "code",
   "execution_count": 39,
   "metadata": {},
   "outputs": [
    {
     "data": {
      "text/plain": [
       "('После уплаты НДФЛ 13%:',\n",
       " 'Профит портфеля в процентах: -10.44%',\n",
       " Decimal('-136.39'))"
      ]
     },
     "execution_count": 39,
     "metadata": {},
     "output_type": "execute_result"
    }
   ],
   "source": [
    "get_total_profit_usd_after_taxes(portfolio)"
   ]
  },
  {
   "cell_type": "markdown",
   "metadata": {},
   "source": [
    "### Аналитика портфеля"
   ]
  },
  {
   "cell_type": "markdown",
   "metadata": {},
   "source": [
    "Взглянем на соотношение рублевых и долларовых инструментов в портфеле. Для этого надо немного обработать данные, в частности перевести все долларовые цены в рублевые (можно и наоборот), чтобы смотреть доли в одной системе счисления"
   ]
  },
  {
   "cell_type": "code",
   "execution_count": 40,
   "metadata": {},
   "outputs": [
    {
     "name": "stderr",
     "output_type": "stream",
     "text": [
      "<ipython-input-40-47228ad04780>:7: SettingWithCopyWarning: \n",
      "A value is trying to be set on a copy of a slice from a DataFrame.\n",
      "Try using .loc[row_indexer,col_indexer] = value instead\n",
      "\n",
      "See the caveats in the documentation: https://pandas.pydata.org/pandas-docs/stable/user_guide/indexing.html#returning-a-view-versus-a-copy\n",
      "  usd_currency_part['total_price_rub'] = (usd_currency_part['total_price'] * usd_course)\n",
      "<ipython-input-40-47228ad04780>:8: SettingWithCopyWarning: \n",
      "A value is trying to be set on a copy of a slice from a DataFrame.\n",
      "Try using .loc[row_indexer,col_indexer] = value instead\n",
      "\n",
      "See the caveats in the documentation: https://pandas.pydata.org/pandas-docs/stable/user_guide/indexing.html#returning-a-view-versus-a-copy\n",
      "  rub_currency_part['total_price_rub'] =rub_currency_part['total_price']\n"
     ]
    }
   ],
   "source": [
    "usd_course = get_course_usd_to_rub() # получаем курс доллара\n",
    "currency_part = portfolio[['total_price', 'currency']] # делаем срез по двум интересующим нас столбцам\n",
    "\n",
    "usd_currency_part = currency_part.loc[currency_part['currency'] == 'USD'] # выделяем рублевые\n",
    "rub_currency_part = currency_part.loc[currency_part['currency'] == 'RUB']\n",
    "\n",
    "usd_currency_part['total_price_rub'] = (usd_currency_part['total_price'] * usd_course)\n",
    "rub_currency_part['total_price_rub'] =rub_currency_part['total_price']\n",
    "currency_part = usd_currency_part.merge(right=rub_currency_part, how='outer')"
   ]
  },
  {
   "cell_type": "code",
   "execution_count": 41,
   "metadata": {},
   "outputs": [
    {
     "data": {
      "image/svg+xml": [
       "<svg class=\"main-svg\" xmlns=\"http://www.w3.org/2000/svg\" xmlns:xlink=\"http://www.w3.org/1999/xlink\" width=\"700\" height=\"500\" style=\"\" viewBox=\"0 0 700 500\"><rect x=\"0\" y=\"0\" width=\"700\" height=\"500\" style=\"fill: rgb(255, 255, 255); fill-opacity: 1;\"/><defs id=\"defs-481853\"><g class=\"clips\"/><g class=\"gradients\"/><g class=\"patterns\"/></defs><g class=\"bglayer\"/><g class=\"layer-below\"><g class=\"imagelayer\"/><g class=\"shapelayer\"/></g><g class=\"cartesianlayer\"/><g class=\"polarlayer\"/><g class=\"ternarylayer\"/><g class=\"geolayer\"/><g class=\"funnelarealayer\"/><g class=\"pielayer\"><g class=\"trace\" stroke-linejoin=\"round\" style=\"opacity: 1;\"><g class=\"slice\"><path class=\"surface\" d=\"M274.4564501839298,283.53880473660405a72,72 0 1 0 68.0435498160702,-95.53880473660404l0,-88a160,160 0 1 1 -151.207888480156,212.3084549702312Z\" style=\"pointer-events: all; stroke-width: 0; fill: rgb(99, 110, 250); fill-opacity: 1; stroke: rgb(68, 68, 68); stroke-opacity: 1;\"/><g class=\"slicetext\"><text data-notex=\"1\" class=\"slicetext\" transform=\"translate(436.94675935438306,323.98891894594533)\" text-anchor=\"middle\" x=\"0\" y=\"0\" style=\"font-family: 'Open Sans', verdana, arial, sans-serif; font-size: 12px; fill: rgb(255, 255, 255); fill-opacity: 1; white-space: pre;\"><tspan class=\"line\" dy=\"0em\" x=\"0\" y=\"0\">RUB</tspan><tspan class=\"line\" dy=\"1.3em\" x=\"0\" y=\"0\">69.7%</tspan></text></g></g><g class=\"slice\"><path class=\"surface\" d=\"M342.5,188a72,72 0 0 0 -68.04354981607024,95.53880473660396l-83.16433866408585,28.769650233627058a160,160 0 0 1 151.20788848015607,-212.30845497023103Z\" style=\"pointer-events: all; stroke-width: 0; fill: rgb(239, 85, 59); fill-opacity: 1; stroke: rgb(68, 68, 68); stroke-opacity: 1;\"/><g class=\"slicetext\"><text data-notex=\"1\" class=\"slicetext\" transform=\"translate(247.97511564561694,189.40170605405459)\" text-anchor=\"middle\" x=\"0\" y=\"0\" style=\"font-family: 'Open Sans', verdana, arial, sans-serif; font-size: 12px; fill: rgb(68, 68, 68); fill-opacity: 1; white-space: pre;\"><tspan class=\"line\" dy=\"0em\" x=\"0\" y=\"0\">USD</tspan><tspan class=\"line\" dy=\"1.3em\" x=\"0\" y=\"0\">30.3%</tspan></text></g></g></g></g><g class=\"iciclelayer\"/><g class=\"treemaplayer\"/><g class=\"sunburstlayer\"/><g class=\"glimages\"/><defs id=\"topdefs-481853\"><g class=\"clips\"/><clipPath id=\"legend481853\"><rect width=\"72\" height=\"48\" x=\"0\" y=\"0\"/></clipPath></defs><g class=\"layer-above\"><g class=\"imagelayer\"/><g class=\"shapelayer\"/></g><g class=\"infolayer\"><g class=\"legend\" pointer-events=\"all\" transform=\"translate(615.5,100)\"><rect class=\"bg\" shape-rendering=\"crispEdges\" style=\"stroke: rgb(68, 68, 68); stroke-opacity: 1; fill: rgb(255, 255, 255); fill-opacity: 1; stroke-width: 0px;\" width=\"72\" height=\"48\" x=\"0\" y=\"0\"/><g class=\"scrollbox\" transform=\"\" clip-path=\"url(#legend481853)\"><g class=\"groups\"><g class=\"traces\" transform=\"translate(0,14.5)\" style=\"opacity: 1;\"><text class=\"legendtext\" text-anchor=\"start\" x=\"40\" y=\"4.680000000000001\" style=\"font-family: 'Open Sans', verdana, arial, sans-serif; font-size: 12px; fill: rgb(42, 63, 95); fill-opacity: 1; white-space: pre;\">RUB</text><g class=\"layers\" style=\"opacity: 1;\"><g class=\"legendfill\"/><g class=\"legendlines\"/><g class=\"legendsymbols\"><g class=\"legendpoints\"><path class=\"legendpie\" d=\"M6,6H-6V-6H6Z\" transform=\"translate(20,0)\" style=\"stroke-width: 0; fill: rgb(99, 110, 250); fill-opacity: 1; stroke: rgb(68, 68, 68); stroke-opacity: 1;\"/></g></g></g><rect class=\"legendtoggle\" x=\"0\" y=\"-9.5\" width=\"66.234375\" height=\"19\" style=\"fill: rgb(0, 0, 0); fill-opacity: 0;\"/></g><g class=\"traces\" transform=\"translate(0,33.5)\" style=\"opacity: 1;\"><text class=\"legendtext\" text-anchor=\"start\" x=\"40\" y=\"4.680000000000001\" style=\"font-family: 'Open Sans', verdana, arial, sans-serif; font-size: 12px; fill: rgb(42, 63, 95); fill-opacity: 1; white-space: pre;\">USD</text><g class=\"layers\" style=\"opacity: 1;\"><g class=\"legendfill\"/><g class=\"legendlines\"/><g class=\"legendsymbols\"><g class=\"legendpoints\"><path class=\"legendpie\" d=\"M6,6H-6V-6H6Z\" transform=\"translate(20,0)\" style=\"stroke-width: 0; fill: rgb(239, 85, 59); fill-opacity: 1; stroke: rgb(68, 68, 68); stroke-opacity: 1;\"/></g></g></g><rect class=\"legendtoggle\" x=\"0\" y=\"-9.5\" width=\"66.234375\" height=\"19\" style=\"fill: rgb(0, 0, 0); fill-opacity: 0;\"/></g></g></g><rect class=\"scrollbar\" rx=\"20\" ry=\"3\" width=\"0\" height=\"0\" style=\"fill: rgb(128, 139, 164); fill-opacity: 1;\" x=\"0\" y=\"0\"/></g><g class=\"g-gtitle\"><text class=\"gtitle\" x=\"35\" y=\"50\" text-anchor=\"start\" dy=\"0em\" style=\"font-family: 'Open Sans', verdana, arial, sans-serif; font-size: 17px; fill: rgb(42, 63, 95); opacity: 1; font-weight: normal; white-space: pre;\">Доли долларовых и рублевых активов</text></g></g></svg>"
      ]
     },
     "metadata": {},
     "output_type": "display_data"
    }
   ],
   "source": [
    "fig = px.pie(currency_part, values='total_price_rub', names='currency', title='Доли долларовых и рублевых активов', hole=0.45)\n",
    "fig.update_traces(textposition='inside', textinfo='percent+label')\n",
    "fig.show(renderer=\"svg\")"
   ]
  },
  {
   "cell_type": "code",
   "execution_count": 42,
   "metadata": {},
   "outputs": [],
   "source": [
    "# TODO\n",
    "# 1. Operation list"
   ]
  }
 ],
 "metadata": {
  "kernelspec": {
   "display_name": "Python 3",
   "language": "python",
   "name": "python3"
  },
  "language_info": {
   "codemirror_mode": {
    "name": "ipython",
    "version": 3
   },
   "file_extension": ".py",
   "mimetype": "text/x-python",
   "name": "python",
   "nbconvert_exporter": "python",
   "pygments_lexer": "ipython3",
   "version": "3.8.8"
  }
 },
 "nbformat": 4,
 "nbformat_minor": 4
}
